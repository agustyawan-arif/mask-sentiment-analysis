{
 "cells": [
  {
   "cell_type": "markdown",
   "metadata": {
    "id": "S6SioaRIIN9j"
   },
   "source": [
    "# **Sentiment Analysis on Masks**\n",
    "<p align=\"center\">\n",
    "  <img width=\"460\" height=\"300\" src=\"https://www.unicef.org/indonesia/sites/unicef.org.indonesia/files/styles/hero_mobile/public/UNI360179.jpg?itok=Ammj8wo5\">\n",
    "</p>\n",
    "\n",
    "It has been more than a year, the earth, especially Indonesia, is not doing well. The COVID-19 outbreak has yet to be stopped. Not getting better, in fact recently a new variant of covid-19 was discovered with more spread and risk than the previous variant. One of the ways we can protect ourselves from the spread of the Covid-19 virus is by wearing a mask. It is undeniable that maybe some people are starting to feel uncomfortable using masks or are even more aware of using masks. Therefore, in this notebook, I want to do an analysis to see how people's sentiments towards the use of masks are, whether positive, negative or maybe neutral"
   ]
  },
  {
   "cell_type": "markdown",
   "metadata": {
    "id": "HuMlp3kYMQEI"
   },
   "source": [
    "## **Install and Import Library**"
   ]
  },
  {
   "cell_type": "code",
   "execution_count": 8,
   "metadata": {
    "colab": {
     "base_uri": "https://localhost:8080/"
    },
    "executionInfo": {
     "elapsed": 28135,
     "status": "ok",
     "timestamp": 1624960468131,
     "user": {
      "displayName": "Arif Agustyawan",
      "photoUrl": "https://lh3.googleusercontent.com/a-/AOh14Gh9uApKQSWG8ogeB8DBfDQMuhFt7TBksOpgrYN7YQ=s64",
      "userId": "16514179669705499636"
     },
     "user_tz": -420
    },
    "id": "ymqBsKjVhk4I",
    "outputId": "823df381-17e0-480b-bf47-a5000ab2e87f"
   },
   "outputs": [
    {
     "name": "stdout",
     "output_type": "stream",
     "text": [
      "Mounted at /content/drive\n"
     ]
    }
   ],
   "source": [
    "from google.colab import drive\n",
    "drive.mount('/content/drive')"
   ]
  },
  {
   "cell_type": "code",
   "execution_count": null,
   "metadata": {
    "id": "or7UQtRliJcj"
   },
   "outputs": [],
   "source": [
    "pip install snscrape"
   ]
  },
  {
   "cell_type": "code",
   "execution_count": null,
   "metadata": {
    "id": "fihWTtBhjygD"
   },
   "outputs": [],
   "source": [
    "!pip install Sastrawi"
   ]
  },
  {
   "cell_type": "code",
   "execution_count": null,
   "metadata": {
    "id": "cdOnX23RkcgN"
   },
   "outputs": [],
   "source": [
    "!pip install google_trans_new"
   ]
  },
  {
   "cell_type": "code",
   "execution_count": null,
   "metadata": {
    "id": "7-qZ2f8QhuMx"
   },
   "outputs": [],
   "source": [
    "import pandas as pd\n",
    "import numpy as np\n",
    "import csv\n",
    "import snscrape.modules.twitter as sntwitter\n",
    "import itertools\n",
    "import seaborn as sn\n",
    "import matplotlib.pyplot as plt\n",
    "import nltk\n",
    "import re\n",
    "import string\n",
    "nltk.download('stopwords')\n",
    "from nltk.corpus import stopwords\n",
    "nltk.download('punkt')\n",
    "from Sastrawi.Stemmer.StemmerFactory import StemmerFactory\n",
    "from textblob import TextBlob\n",
    "from google_trans_new import google_translator\n",
    "from sklearn.metrics import accuracy_score,classification_report,confusion_matrix\n",
    "from nltk.sentiment.vader import SentimentIntensityAnalyzer\n",
    "from nltk.sentiment.util import *\n",
    "nltk.download('vader_lexicon')\n",
    "from nltk.sentiment.vader import SentimentIntensityAnalyzer"
   ]
  },
  {
   "cell_type": "markdown",
   "metadata": {
    "id": "Mbb14xbXtZHC"
   },
   "source": [
    "## **Scrapping**"
   ]
  },
  {
   "cell_type": "code",
   "execution_count": 6,
   "metadata": {
    "executionInfo": {
     "elapsed": 1336,
     "status": "ok",
     "timestamp": 1624960373514,
     "user": {
      "displayName": "Arif Agustyawan",
      "photoUrl": "https://lh3.googleusercontent.com/a-/AOh14Gh9uApKQSWG8ogeB8DBfDQMuhFt7TBksOpgrYN7YQ=s64",
      "userId": "16514179669705499636"
     },
     "user_tz": -420
    },
    "id": "FtvJUid6iPy-"
   },
   "outputs": [],
   "source": [
    "df = pd.DataFrame(itertools.islice(sntwitter.TwitterSearchScraper(\n",
    "   'masker').get_items(), 100))[['username', 'date', 'content']]"
   ]
  },
  {
   "cell_type": "markdown",
   "metadata": {
    "id": "hHV1zsp_M8ep"
   },
   "source": [
    "## **Exploratory Data Analysis**"
   ]
  },
  {
   "cell_type": "code",
   "execution_count": null,
   "metadata": {
    "colab": {
     "base_uri": "https://localhost:8080/",
     "height": 204
    },
    "executionInfo": {
     "elapsed": 593,
     "status": "ok",
     "timestamp": 1624939844157,
     "user": {
      "displayName": "Arif Agustyawan",
      "photoUrl": "https://lh3.googleusercontent.com/a-/AOh14Gh9uApKQSWG8ogeB8DBfDQMuhFt7TBksOpgrYN7YQ=s64",
      "userId": "16514179669705499636"
     },
     "user_tz": -420
    },
    "id": "WiMj45B7iU4V",
    "outputId": "13d0f5de-8f87-42ab-aad6-038328c1d66d"
   },
   "outputs": [
    {
     "data": {
      "text/html": [
       "<div>\n",
       "<style scoped>\n",
       "    .dataframe tbody tr th:only-of-type {\n",
       "        vertical-align: middle;\n",
       "    }\n",
       "\n",
       "    .dataframe tbody tr th {\n",
       "        vertical-align: top;\n",
       "    }\n",
       "\n",
       "    .dataframe thead th {\n",
       "        text-align: right;\n",
       "    }\n",
       "</style>\n",
       "<table border=\"1\" class=\"dataframe\">\n",
       "  <thead>\n",
       "    <tr style=\"text-align: right;\">\n",
       "      <th></th>\n",
       "      <th>username</th>\n",
       "      <th>date</th>\n",
       "      <th>content</th>\n",
       "    </tr>\n",
       "  </thead>\n",
       "  <tbody>\n",
       "    <tr>\n",
       "      <th>0</th>\n",
       "      <td>nctjaemir</td>\n",
       "      <td>2021-06-29 04:10:37+00:00</td>\n",
       "      <td>@kyuhee___ Pake masker dong.</td>\n",
       "    </tr>\n",
       "    <tr>\n",
       "      <th>1</th>\n",
       "      <td>rmcherries</td>\n",
       "      <td>2021-06-29 04:10:34+00:00</td>\n",
       "      <td>Gw bela2in pake double masker tp masih aja ada...</td>\n",
       "    </tr>\n",
       "    <tr>\n",
       "      <th>2</th>\n",
       "      <td>TabananPolres</td>\n",
       "      <td>2021-06-29 04:10:22+00:00</td>\n",
       "      <td>Personil Bhabinkamtibmas Desa Baturiti Polsek ...</td>\n",
       "    </tr>\n",
       "    <tr>\n",
       "      <th>3</th>\n",
       "      <td>LonelyRoadBiker</td>\n",
       "      <td>2021-06-29 04:10:12+00:00</td>\n",
       "      <td>Itu baru planning ke dpn, coba lu baca\\n\\nSkrg...</td>\n",
       "    </tr>\n",
       "    <tr>\n",
       "      <th>4</th>\n",
       "      <td>banxnamilkth</td>\n",
       "      <td>2021-06-29 04:10:02+00:00</td>\n",
       "      <td>@rahasiarif kak arif juga stay safe yah, kalo ...</td>\n",
       "    </tr>\n",
       "  </tbody>\n",
       "</table>\n",
       "</div>"
      ],
      "text/plain": [
       "          username  ...                                            content\n",
       "0        nctjaemir  ...                       @kyuhee___ Pake masker dong.\n",
       "1       rmcherries  ...  Gw bela2in pake double masker tp masih aja ada...\n",
       "2    TabananPolres  ...  Personil Bhabinkamtibmas Desa Baturiti Polsek ...\n",
       "3  LonelyRoadBiker  ...  Itu baru planning ke dpn, coba lu baca\\n\\nSkrg...\n",
       "4     banxnamilkth  ...  @rahasiarif kak arif juga stay safe yah, kalo ...\n",
       "\n",
       "[5 rows x 3 columns]"
      ]
     },
     "execution_count": 14,
     "metadata": {
      "tags": []
     },
     "output_type": "execute_result"
    }
   ],
   "source": [
    "df.head()"
   ]
  },
  {
   "cell_type": "code",
   "execution_count": null,
   "metadata": {
    "colab": {
     "base_uri": "https://localhost:8080/"
    },
    "executionInfo": {
     "elapsed": 534,
     "status": "ok",
     "timestamp": 1624939852909,
     "user": {
      "displayName": "Arif Agustyawan",
      "photoUrl": "https://lh3.googleusercontent.com/a-/AOh14Gh9uApKQSWG8ogeB8DBfDQMuhFt7TBksOpgrYN7YQ=s64",
      "userId": "16514179669705499636"
     },
     "user_tz": -420
    },
    "id": "Aytj-DTBitCY",
    "outputId": "55eb6b0e-5b65-4047-a84a-932d8b7873bb"
   },
   "outputs": [
    {
     "name": "stdout",
     "output_type": "stream",
     "text": [
      "<class 'pandas.core.frame.DataFrame'>\n",
      "RangeIndex: 100 entries, 0 to 99\n",
      "Data columns (total 3 columns):\n",
      " #   Column    Non-Null Count  Dtype              \n",
      "---  ------    --------------  -----              \n",
      " 0   username  100 non-null    object             \n",
      " 1   date      100 non-null    datetime64[ns, UTC]\n",
      " 2   content   100 non-null    object             \n",
      "dtypes: datetime64[ns, UTC](1), object(2)\n",
      "memory usage: 2.5+ KB\n"
     ]
    }
   ],
   "source": [
    "df.info()"
   ]
  },
  {
   "cell_type": "code",
   "execution_count": null,
   "metadata": {
    "colab": {
     "base_uri": "https://localhost:8080/"
    },
    "executionInfo": {
     "elapsed": 49,
     "status": "ok",
     "timestamp": 1624939855924,
     "user": {
      "displayName": "Arif Agustyawan",
      "photoUrl": "https://lh3.googleusercontent.com/a-/AOh14Gh9uApKQSWG8ogeB8DBfDQMuhFt7TBksOpgrYN7YQ=s64",
      "userId": "16514179669705499636"
     },
     "user_tz": -420
    },
    "id": "zrAvPHqYijuE",
    "outputId": "4ff7c706-e005-4b30-e188-a65c9cef759e"
   },
   "outputs": [
    {
     "data": {
      "text/plain": [
       "0                          @kyuhee___ Pake masker dong.\n",
       "1     Gw bela2in pake double masker tp masih aja ada...\n",
       "2     Personil Bhabinkamtibmas Desa Baturiti Polsek ...\n",
       "3     Itu baru planning ke dpn, coba lu baca\\n\\nSkrg...\n",
       "4     @rahasiarif kak arif juga stay safe yah, kalo ...\n",
       "                            ...                        \n",
       "95    @Larasati_Nikken Benerr. tp mau gmn lg ya samp...\n",
       "96    pake masker medis trus di dobel di luar perasa...\n",
       "97                           Sesek juga pake dua masker\n",
       "98    @Askrlfess Gapapa. Asal jangan kontak langsung...\n",
       "99    5M: harus tetap\\nMenjaga jarak,\\nMencuci tanga...\n",
       "Name: content, Length: 100, dtype: object"
      ]
     },
     "execution_count": 16,
     "metadata": {
      "tags": []
     },
     "output_type": "execute_result"
    }
   ],
   "source": [
    "df['content']"
   ]
  },
  {
   "cell_type": "code",
   "execution_count": null,
   "metadata": {
    "id": "2ljiN1D6iu6H"
   },
   "outputs": [],
   "source": [
    "df = df.drop(columns=['username', 'date'])"
   ]
  },
  {
   "cell_type": "code",
   "execution_count": null,
   "metadata": {
    "colab": {
     "base_uri": "https://localhost:8080/",
     "height": 204
    },
    "executionInfo": {
     "elapsed": 30,
     "status": "ok",
     "timestamp": 1624939871294,
     "user": {
      "displayName": "Arif Agustyawan",
      "photoUrl": "https://lh3.googleusercontent.com/a-/AOh14Gh9uApKQSWG8ogeB8DBfDQMuhFt7TBksOpgrYN7YQ=s64",
      "userId": "16514179669705499636"
     },
     "user_tz": -420
    },
    "id": "Okq5K9Cai1UX",
    "outputId": "492ea9c2-5897-4dc4-b5ea-1ee26ebe595b"
   },
   "outputs": [
    {
     "data": {
      "text/html": [
       "<div>\n",
       "<style scoped>\n",
       "    .dataframe tbody tr th:only-of-type {\n",
       "        vertical-align: middle;\n",
       "    }\n",
       "\n",
       "    .dataframe tbody tr th {\n",
       "        vertical-align: top;\n",
       "    }\n",
       "\n",
       "    .dataframe thead th {\n",
       "        text-align: right;\n",
       "    }\n",
       "</style>\n",
       "<table border=\"1\" class=\"dataframe\">\n",
       "  <thead>\n",
       "    <tr style=\"text-align: right;\">\n",
       "      <th></th>\n",
       "      <th>content</th>\n",
       "    </tr>\n",
       "  </thead>\n",
       "  <tbody>\n",
       "    <tr>\n",
       "      <th>0</th>\n",
       "      <td>@kyuhee___ Pake masker dong.</td>\n",
       "    </tr>\n",
       "    <tr>\n",
       "      <th>1</th>\n",
       "      <td>Gw bela2in pake double masker tp masih aja ada...</td>\n",
       "    </tr>\n",
       "    <tr>\n",
       "      <th>2</th>\n",
       "      <td>Personil Bhabinkamtibmas Desa Baturiti Polsek ...</td>\n",
       "    </tr>\n",
       "    <tr>\n",
       "      <th>3</th>\n",
       "      <td>Itu baru planning ke dpn, coba lu baca\\n\\nSkrg...</td>\n",
       "    </tr>\n",
       "    <tr>\n",
       "      <th>4</th>\n",
       "      <td>@rahasiarif kak arif juga stay safe yah, kalo ...</td>\n",
       "    </tr>\n",
       "  </tbody>\n",
       "</table>\n",
       "</div>"
      ],
      "text/plain": [
       "                                             content\n",
       "0                       @kyuhee___ Pake masker dong.\n",
       "1  Gw bela2in pake double masker tp masih aja ada...\n",
       "2  Personil Bhabinkamtibmas Desa Baturiti Polsek ...\n",
       "3  Itu baru planning ke dpn, coba lu baca\\n\\nSkrg...\n",
       "4  @rahasiarif kak arif juga stay safe yah, kalo ..."
      ]
     },
     "execution_count": 18,
     "metadata": {
      "tags": []
     },
     "output_type": "execute_result"
    }
   ],
   "source": [
    "df.head()"
   ]
  },
  {
   "cell_type": "code",
   "execution_count": null,
   "metadata": {
    "id": "7fbkAXoyi5Iu"
   },
   "outputs": [],
   "source": [
    "df.content=df.content.astype(str)"
   ]
  },
  {
   "cell_type": "code",
   "execution_count": null,
   "metadata": {
    "id": "a6BY_wAvi-NO"
   },
   "outputs": [],
   "source": [
    "df.to_csv('/content/drive/MyDrive/final-project/dataset/dataset_masker.csv', index=None)"
   ]
  },
  {
   "cell_type": "markdown",
   "metadata": {
    "id": "8lGEL9uANIl0"
   },
   "source": [
    "## **Data Preprocessing**"
   ]
  },
  {
   "cell_type": "code",
   "execution_count": null,
   "metadata": {
    "id": "rtXtTt_QjOwP"
   },
   "outputs": [],
   "source": [
    "df = pd.read_csv('/content/drive/MyDrive/final-project/dataset/dataset_masker.csv')"
   ]
  },
  {
   "cell_type": "code",
   "execution_count": null,
   "metadata": {
    "id": "d-V7qfSIjeEN"
   },
   "outputs": [],
   "source": [
    "def clean_text(tweet):\n",
    "    tweet = tweet.lower() # text lowercase\n",
    "    tweet = re.sub('@[^\\s]+', '', tweet) # remove usernames\n",
    "    tweet = re.sub('\\[.*?\\]', '', tweet) # remove square brackets\n",
    "    tweet = re.sub('((www\\.[^\\s]+)|(https?://[^\\s]+))', '', tweet) # remove URLs\n",
    "    tweet = re.sub('[%s]' % re.escape(string.punctuation), '', tweet) # remove punctuation\n",
    "    tweet = re.sub('\\w*\\d\\w*', '', tweet) \n",
    "    tweet = re.sub('[‘’“”…]', '', tweet)\n",
    "    tweet = re.sub('\\n', '', tweet)\n",
    "    return tweet\n",
    "\n",
    "tweet = lambda x: clean_text(x)"
   ]
  },
  {
   "cell_type": "code",
   "execution_count": null,
   "metadata": {
    "colab": {
     "base_uri": "https://localhost:8080/",
     "height": 204
    },
    "executionInfo": {
     "elapsed": 487,
     "status": "ok",
     "timestamp": 1624939964819,
     "user": {
      "displayName": "Arif Agustyawan",
      "photoUrl": "https://lh3.googleusercontent.com/a-/AOh14Gh9uApKQSWG8ogeB8DBfDQMuhFt7TBksOpgrYN7YQ=s64",
      "userId": "16514179669705499636"
     },
     "user_tz": -420
    },
    "id": "s3MSQ-31jhBx",
    "outputId": "a89e3ebb-2bd7-4f76-c89d-6b65206d79ea"
   },
   "outputs": [
    {
     "data": {
      "text/html": [
       "<div>\n",
       "<style scoped>\n",
       "    .dataframe tbody tr th:only-of-type {\n",
       "        vertical-align: middle;\n",
       "    }\n",
       "\n",
       "    .dataframe tbody tr th {\n",
       "        vertical-align: top;\n",
       "    }\n",
       "\n",
       "    .dataframe thead th {\n",
       "        text-align: right;\n",
       "    }\n",
       "</style>\n",
       "<table border=\"1\" class=\"dataframe\">\n",
       "  <thead>\n",
       "    <tr style=\"text-align: right;\">\n",
       "      <th></th>\n",
       "      <th>content</th>\n",
       "      <th>clean1</th>\n",
       "    </tr>\n",
       "  </thead>\n",
       "  <tbody>\n",
       "    <tr>\n",
       "      <th>0</th>\n",
       "      <td>@kyuhee___ Pake masker dong.</td>\n",
       "      <td>pake masker dong</td>\n",
       "    </tr>\n",
       "    <tr>\n",
       "      <th>1</th>\n",
       "      <td>Gw bela2in pake double masker tp masih aja ada...</td>\n",
       "      <td>gw  pake double masker tp masih aja ada yg gap...</td>\n",
       "    </tr>\n",
       "    <tr>\n",
       "      <th>2</th>\n",
       "      <td>Personil Bhabinkamtibmas Desa Baturiti Polsek ...</td>\n",
       "      <td>personil bhabinkamtibmas desa baturiti polsek ...</td>\n",
       "    </tr>\n",
       "    <tr>\n",
       "      <th>3</th>\n",
       "      <td>Itu baru planning ke dpn, coba lu baca\\n\\nSkrg...</td>\n",
       "      <td>itu baru planning ke dpn coba lu bacaskrg ini ...</td>\n",
       "    </tr>\n",
       "    <tr>\n",
       "      <th>4</th>\n",
       "      <td>@rahasiarif kak arif juga stay safe yah, kalo ...</td>\n",
       "      <td>kak arif juga stay safe yah kalo kluar jgn lu...</td>\n",
       "    </tr>\n",
       "  </tbody>\n",
       "</table>\n",
       "</div>"
      ],
      "text/plain": [
       "                                             content                                             clean1\n",
       "0                       @kyuhee___ Pake masker dong.                                   pake masker dong\n",
       "1  Gw bela2in pake double masker tp masih aja ada...  gw  pake double masker tp masih aja ada yg gap...\n",
       "2  Personil Bhabinkamtibmas Desa Baturiti Polsek ...  personil bhabinkamtibmas desa baturiti polsek ...\n",
       "3  Itu baru planning ke dpn, coba lu baca\\n\\nSkrg...  itu baru planning ke dpn coba lu bacaskrg ini ...\n",
       "4  @rahasiarif kak arif juga stay safe yah, kalo ...   kak arif juga stay safe yah kalo kluar jgn lu..."
      ]
     },
     "execution_count": 25,
     "metadata": {
      "tags": []
     },
     "output_type": "execute_result"
    }
   ],
   "source": [
    "df['clean1'] = pd.DataFrame(df.content.apply(tweet))\n",
    "df.head()"
   ]
  },
  {
   "cell_type": "code",
   "execution_count": null,
   "metadata": {
    "colab": {
     "base_uri": "https://localhost:8080/",
     "height": 204
    },
    "executionInfo": {
     "elapsed": 554,
     "status": "ok",
     "timestamp": 1624939973903,
     "user": {
      "displayName": "Arif Agustyawan",
      "photoUrl": "https://lh3.googleusercontent.com/a-/AOh14Gh9uApKQSWG8ogeB8DBfDQMuhFt7TBksOpgrYN7YQ=s64",
      "userId": "16514179669705499636"
     },
     "user_tz": -420
    },
    "id": "d_fJqI3_jqIL",
    "outputId": "0ff0a08a-5f4c-4e6f-8fa0-8727b6f5406a"
   },
   "outputs": [
    {
     "data": {
      "text/html": [
       "<div>\n",
       "<style scoped>\n",
       "    .dataframe tbody tr th:only-of-type {\n",
       "        vertical-align: middle;\n",
       "    }\n",
       "\n",
       "    .dataframe tbody tr th {\n",
       "        vertical-align: top;\n",
       "    }\n",
       "\n",
       "    .dataframe thead th {\n",
       "        text-align: right;\n",
       "    }\n",
       "</style>\n",
       "<table border=\"1\" class=\"dataframe\">\n",
       "  <thead>\n",
       "    <tr style=\"text-align: right;\">\n",
       "      <th></th>\n",
       "      <th>content</th>\n",
       "      <th>clean1</th>\n",
       "      <th>clean2</th>\n",
       "    </tr>\n",
       "  </thead>\n",
       "  <tbody>\n",
       "    <tr>\n",
       "      <th>0</th>\n",
       "      <td>@kyuhee___ Pake masker dong.</td>\n",
       "      <td>pake masker dong</td>\n",
       "      <td>pake masker</td>\n",
       "    </tr>\n",
       "    <tr>\n",
       "      <th>1</th>\n",
       "      <td>Gw bela2in pake double masker tp masih aja ada...</td>\n",
       "      <td>gw  pake double masker tp masih aja ada yg gap...</td>\n",
       "      <td>gw pake double masker tp aja yg gapake masker ...</td>\n",
       "    </tr>\n",
       "    <tr>\n",
       "      <th>2</th>\n",
       "      <td>Personil Bhabinkamtibmas Desa Baturiti Polsek ...</td>\n",
       "      <td>personil bhabinkamtibmas desa baturiti polsek ...</td>\n",
       "      <td>personil bhabinkamtibmas desa baturiti polsek ...</td>\n",
       "    </tr>\n",
       "    <tr>\n",
       "      <th>3</th>\n",
       "      <td>Itu baru planning ke dpn, coba lu baca\\n\\nSkrg...</td>\n",
       "      <td>itu baru planning ke dpn coba lu bacaskrg ini ...</td>\n",
       "      <td>planning dpn coba lu bacaskrg singapore sdg wa...</td>\n",
       "    </tr>\n",
       "    <tr>\n",
       "      <th>4</th>\n",
       "      <td>@rahasiarif kak arif juga stay safe yah, kalo ...</td>\n",
       "      <td>kak arif juga stay safe yah kalo kluar jgn lu...</td>\n",
       "      <td>kak arif stay safe yah kalo kluar jgn lupa pak...</td>\n",
       "    </tr>\n",
       "  </tbody>\n",
       "</table>\n",
       "</div>"
      ],
      "text/plain": [
       "                                             content  ...                                             clean2\n",
       "0                       @kyuhee___ Pake masker dong.  ...                                        pake masker\n",
       "1  Gw bela2in pake double masker tp masih aja ada...  ...  gw pake double masker tp aja yg gapake masker ...\n",
       "2  Personil Bhabinkamtibmas Desa Baturiti Polsek ...  ...  personil bhabinkamtibmas desa baturiti polsek ...\n",
       "3  Itu baru planning ke dpn, coba lu baca\\n\\nSkrg...  ...  planning dpn coba lu bacaskrg singapore sdg wa...\n",
       "4  @rahasiarif kak arif juga stay safe yah, kalo ...  ...  kak arif stay safe yah kalo kluar jgn lupa pak...\n",
       "\n",
       "[5 rows x 3 columns]"
      ]
     },
     "execution_count": 27,
     "metadata": {
      "tags": []
     },
     "output_type": "execute_result"
    }
   ],
   "source": [
    "additional  = ['rt','rts','retweet']\n",
    "swords = set().union(stopwords.words('indonesian'), additional)\n",
    "\n",
    "df['clean2'] = (df['clean1'].apply(lambda x: ' '.join([word for word in x.split() if word not in (swords)])))\n",
    "df.head()"
   ]
  },
  {
   "cell_type": "code",
   "execution_count": null,
   "metadata": {
    "id": "Dgfs9g0SjwFl"
   },
   "outputs": [],
   "source": [
    "text = df['clean2']"
   ]
  },
  {
   "cell_type": "code",
   "execution_count": null,
   "metadata": {
    "id": "38Hemt1aj1NN"
   },
   "outputs": [],
   "source": [
    "factory = StemmerFactory()\n",
    "stemmer = factory.create_stemmer()\n",
    "list_hasil = text\n",
    "output = [(stemmer.stem(token)) for token in list_hasil]"
   ]
  },
  {
   "cell_type": "code",
   "execution_count": null,
   "metadata": {
    "id": "EpXznGVOkMZb"
   },
   "outputs": [],
   "source": [
    "df['clean3'] = output"
   ]
  },
  {
   "cell_type": "code",
   "execution_count": null,
   "metadata": {
    "colab": {
     "base_uri": "https://localhost:8080/",
     "height": 419
    },
    "executionInfo": {
     "elapsed": 533,
     "status": "ok",
     "timestamp": 1624940046296,
     "user": {
      "displayName": "Arif Agustyawan",
      "photoUrl": "https://lh3.googleusercontent.com/a-/AOh14Gh9uApKQSWG8ogeB8DBfDQMuhFt7TBksOpgrYN7YQ=s64",
      "userId": "16514179669705499636"
     },
     "user_tz": -420
    },
    "id": "q-OOHlXFkOc4",
    "outputId": "e737a738-42a7-43cb-9052-4bbb48dfee9a"
   },
   "outputs": [
    {
     "data": {
      "text/html": [
       "<div>\n",
       "<style scoped>\n",
       "    .dataframe tbody tr th:only-of-type {\n",
       "        vertical-align: middle;\n",
       "    }\n",
       "\n",
       "    .dataframe tbody tr th {\n",
       "        vertical-align: top;\n",
       "    }\n",
       "\n",
       "    .dataframe thead th {\n",
       "        text-align: right;\n",
       "    }\n",
       "</style>\n",
       "<table border=\"1\" class=\"dataframe\">\n",
       "  <thead>\n",
       "    <tr style=\"text-align: right;\">\n",
       "      <th></th>\n",
       "      <th>content</th>\n",
       "      <th>clean1</th>\n",
       "      <th>clean2</th>\n",
       "      <th>clean3</th>\n",
       "    </tr>\n",
       "  </thead>\n",
       "  <tbody>\n",
       "    <tr>\n",
       "      <th>0</th>\n",
       "      <td>@kyuhee___ Pake masker dong.</td>\n",
       "      <td>pake masker dong</td>\n",
       "      <td>pake masker</td>\n",
       "      <td>pake masker</td>\n",
       "    </tr>\n",
       "    <tr>\n",
       "      <th>1</th>\n",
       "      <td>Gw bela2in pake double masker tp masih aja ada...</td>\n",
       "      <td>gw  pake double masker tp masih aja ada yg gap...</td>\n",
       "      <td>gw pake double masker tp aja yg gapake masker ...</td>\n",
       "      <td>gw pake double masker tp aja yg gapake masker ...</td>\n",
       "    </tr>\n",
       "    <tr>\n",
       "      <th>2</th>\n",
       "      <td>Personil Bhabinkamtibmas Desa Baturiti Polsek ...</td>\n",
       "      <td>personil bhabinkamtibmas desa baturiti polsek ...</td>\n",
       "      <td>personil bhabinkamtibmas desa baturiti polsek ...</td>\n",
       "      <td>personil bhabinkamtibmas desa baturiti polsek ...</td>\n",
       "    </tr>\n",
       "    <tr>\n",
       "      <th>3</th>\n",
       "      <td>Itu baru planning ke dpn, coba lu baca\\n\\nSkrg...</td>\n",
       "      <td>itu baru planning ke dpn coba lu bacaskrg ini ...</td>\n",
       "      <td>planning dpn coba lu bacaskrg singapore sdg wa...</td>\n",
       "      <td>planning dpn coba lu bacaskrg singapore sdg wa...</td>\n",
       "    </tr>\n",
       "    <tr>\n",
       "      <th>4</th>\n",
       "      <td>@rahasiarif kak arif juga stay safe yah, kalo ...</td>\n",
       "      <td>kak arif juga stay safe yah kalo kluar jgn lu...</td>\n",
       "      <td>kak arif stay safe yah kalo kluar jgn lupa pak...</td>\n",
       "      <td>kak arif stay safe yah kalo kluar jgn lupa pak...</td>\n",
       "    </tr>\n",
       "    <tr>\n",
       "      <th>...</th>\n",
       "      <td>...</td>\n",
       "      <td>...</td>\n",
       "      <td>...</td>\n",
       "      <td>...</td>\n",
       "    </tr>\n",
       "    <tr>\n",
       "      <th>95</th>\n",
       "      <td>@Larasati_Nikken Benerr. tp mau gmn lg ya samp...</td>\n",
       "      <td>benerr tp mau gmn lg ya sampe skrg aja virusn...</td>\n",
       "      <td>benerr tp gmn lg ya sampe skrg aja virusnya g ...</td>\n",
       "      <td>benerr tp gmn lg ya sampe skrg aja virus g aja...</td>\n",
       "    </tr>\n",
       "    <tr>\n",
       "      <th>96</th>\n",
       "      <td>pake masker medis trus di dobel di luar perasa...</td>\n",
       "      <td>pake masker medis trus di dobel di luar perasa...</td>\n",
       "      <td>pake masker medis trus dobel perasaan engap ma...</td>\n",
       "      <td>pake masker medis trus dobel asa engap masker ...</td>\n",
       "    </tr>\n",
       "    <tr>\n",
       "      <th>97</th>\n",
       "      <td>Sesek juga pake dua masker</td>\n",
       "      <td>sesek juga pake dua masker</td>\n",
       "      <td>sesek pake masker</td>\n",
       "      <td>sek pake masker</td>\n",
       "    </tr>\n",
       "    <tr>\n",
       "      <th>98</th>\n",
       "      <td>@Askrlfess Gapapa. Asal jangan kontak langsung...</td>\n",
       "      <td>gapapa asal jangan kontak langsung namanya is...</td>\n",
       "      <td>gapapa kontak langsung namanya isolasi kalo te...</td>\n",
       "      <td>gapapa kontak langsung nama isolasi kalo paksa...</td>\n",
       "    </tr>\n",
       "    <tr>\n",
       "      <th>99</th>\n",
       "      <td>5M: harus tetap\\nMenjaga jarak,\\nMencuci tanga...</td>\n",
       "      <td>harus tetapmenjaga jarakmencuci tanganmemakai...</td>\n",
       "      <td>tetapmenjaga jarakmencuci tanganmemakai masker...</td>\n",
       "      <td>tetapmenjaga jarakmencuci tanganmemakai masker...</td>\n",
       "    </tr>\n",
       "  </tbody>\n",
       "</table>\n",
       "<p>100 rows × 4 columns</p>\n",
       "</div>"
      ],
      "text/plain": [
       "                                              content  ...                                             clean3\n",
       "0                        @kyuhee___ Pake masker dong.  ...                                        pake masker\n",
       "1   Gw bela2in pake double masker tp masih aja ada...  ...  gw pake double masker tp aja yg gapake masker ...\n",
       "2   Personil Bhabinkamtibmas Desa Baturiti Polsek ...  ...  personil bhabinkamtibmas desa baturiti polsek ...\n",
       "3   Itu baru planning ke dpn, coba lu baca\\n\\nSkrg...  ...  planning dpn coba lu bacaskrg singapore sdg wa...\n",
       "4   @rahasiarif kak arif juga stay safe yah, kalo ...  ...  kak arif stay safe yah kalo kluar jgn lupa pak...\n",
       "..                                                ...  ...                                                ...\n",
       "95  @Larasati_Nikken Benerr. tp mau gmn lg ya samp...  ...  benerr tp gmn lg ya sampe skrg aja virus g aja...\n",
       "96  pake masker medis trus di dobel di luar perasa...  ...  pake masker medis trus dobel asa engap masker ...\n",
       "97                         Sesek juga pake dua masker  ...                                    sek pake masker\n",
       "98  @Askrlfess Gapapa. Asal jangan kontak langsung...  ...  gapapa kontak langsung nama isolasi kalo paksa...\n",
       "99  5M: harus tetap\\nMenjaga jarak,\\nMencuci tanga...  ...  tetapmenjaga jarakmencuci tanganmemakai masker...\n",
       "\n",
       "[100 rows x 4 columns]"
      ]
     },
     "execution_count": 32,
     "metadata": {
      "tags": []
     },
     "output_type": "execute_result"
    }
   ],
   "source": [
    "df.dropna()"
   ]
  },
  {
   "cell_type": "code",
   "execution_count": null,
   "metadata": {
    "colab": {
     "base_uri": "https://localhost:8080/",
     "height": 419
    },
    "executionInfo": {
     "elapsed": 446,
     "status": "ok",
     "timestamp": 1624940058566,
     "user": {
      "displayName": "Arif Agustyawan",
      "photoUrl": "https://lh3.googleusercontent.com/a-/AOh14Gh9uApKQSWG8ogeB8DBfDQMuhFt7TBksOpgrYN7YQ=s64",
      "userId": "16514179669705499636"
     },
     "user_tz": -420
    },
    "id": "SsSzKbHvkTXN",
    "outputId": "914e23fc-1304-4be9-efb2-db7bf0ab6c3f"
   },
   "outputs": [
    {
     "data": {
      "text/html": [
       "<div>\n",
       "<style scoped>\n",
       "    .dataframe tbody tr th:only-of-type {\n",
       "        vertical-align: middle;\n",
       "    }\n",
       "\n",
       "    .dataframe tbody tr th {\n",
       "        vertical-align: top;\n",
       "    }\n",
       "\n",
       "    .dataframe thead th {\n",
       "        text-align: right;\n",
       "    }\n",
       "</style>\n",
       "<table border=\"1\" class=\"dataframe\">\n",
       "  <thead>\n",
       "    <tr style=\"text-align: right;\">\n",
       "      <th></th>\n",
       "      <th>content</th>\n",
       "      <th>clean1</th>\n",
       "      <th>clean2</th>\n",
       "      <th>clean3</th>\n",
       "      <th>tokens</th>\n",
       "    </tr>\n",
       "  </thead>\n",
       "  <tbody>\n",
       "    <tr>\n",
       "      <th>0</th>\n",
       "      <td>@kyuhee___ Pake masker dong.</td>\n",
       "      <td>pake masker dong</td>\n",
       "      <td>pake masker</td>\n",
       "      <td>pake masker</td>\n",
       "      <td>[pake, masker]</td>\n",
       "    </tr>\n",
       "    <tr>\n",
       "      <th>1</th>\n",
       "      <td>Gw bela2in pake double masker tp masih aja ada...</td>\n",
       "      <td>gw  pake double masker tp masih aja ada yg gap...</td>\n",
       "      <td>gw pake double masker tp aja yg gapake masker ...</td>\n",
       "      <td>gw pake double masker tp aja yg gapake masker ...</td>\n",
       "      <td>[gw, pake, double, masker, tp, aja, yg, gapake...</td>\n",
       "    </tr>\n",
       "    <tr>\n",
       "      <th>2</th>\n",
       "      <td>Personil Bhabinkamtibmas Desa Baturiti Polsek ...</td>\n",
       "      <td>personil bhabinkamtibmas desa baturiti polsek ...</td>\n",
       "      <td>personil bhabinkamtibmas desa baturiti polsek ...</td>\n",
       "      <td>personil bhabinkamtibmas desa baturiti polsek ...</td>\n",
       "      <td>[personil, bhabinkamtibmas, desa, baturiti, po...</td>\n",
       "    </tr>\n",
       "    <tr>\n",
       "      <th>3</th>\n",
       "      <td>Itu baru planning ke dpn, coba lu baca\\n\\nSkrg...</td>\n",
       "      <td>itu baru planning ke dpn coba lu bacaskrg ini ...</td>\n",
       "      <td>planning dpn coba lu bacaskrg singapore sdg wa...</td>\n",
       "      <td>planning dpn coba lu bacaskrg singapore sdg wa...</td>\n",
       "      <td>[planning, dpn, coba, lu, bacaskrg, singapore,...</td>\n",
       "    </tr>\n",
       "    <tr>\n",
       "      <th>4</th>\n",
       "      <td>@rahasiarif kak arif juga stay safe yah, kalo ...</td>\n",
       "      <td>kak arif juga stay safe yah kalo kluar jgn lu...</td>\n",
       "      <td>kak arif stay safe yah kalo kluar jgn lupa pak...</td>\n",
       "      <td>kak arif stay safe yah kalo kluar jgn lupa pak...</td>\n",
       "      <td>[kak, arif, stay, safe, yah, kalo, kluar, jgn,...</td>\n",
       "    </tr>\n",
       "    <tr>\n",
       "      <th>...</th>\n",
       "      <td>...</td>\n",
       "      <td>...</td>\n",
       "      <td>...</td>\n",
       "      <td>...</td>\n",
       "      <td>...</td>\n",
       "    </tr>\n",
       "    <tr>\n",
       "      <th>95</th>\n",
       "      <td>@Larasati_Nikken Benerr. tp mau gmn lg ya samp...</td>\n",
       "      <td>benerr tp mau gmn lg ya sampe skrg aja virusn...</td>\n",
       "      <td>benerr tp gmn lg ya sampe skrg aja virusnya g ...</td>\n",
       "      <td>benerr tp gmn lg ya sampe skrg aja virus g aja...</td>\n",
       "      <td>[benerr, tp, gmn, lg, ya, sampe, skrg, aja, vi...</td>\n",
       "    </tr>\n",
       "    <tr>\n",
       "      <th>96</th>\n",
       "      <td>pake masker medis trus di dobel di luar perasa...</td>\n",
       "      <td>pake masker medis trus di dobel di luar perasa...</td>\n",
       "      <td>pake masker medis trus dobel perasaan engap ma...</td>\n",
       "      <td>pake masker medis trus dobel asa engap masker ...</td>\n",
       "      <td>[pake, masker, medis, trus, dobel, asa, engap,...</td>\n",
       "    </tr>\n",
       "    <tr>\n",
       "      <th>97</th>\n",
       "      <td>Sesek juga pake dua masker</td>\n",
       "      <td>sesek juga pake dua masker</td>\n",
       "      <td>sesek pake masker</td>\n",
       "      <td>sek pake masker</td>\n",
       "      <td>[sek, pake, masker]</td>\n",
       "    </tr>\n",
       "    <tr>\n",
       "      <th>98</th>\n",
       "      <td>@Askrlfess Gapapa. Asal jangan kontak langsung...</td>\n",
       "      <td>gapapa asal jangan kontak langsung namanya is...</td>\n",
       "      <td>gapapa kontak langsung namanya isolasi kalo te...</td>\n",
       "      <td>gapapa kontak langsung nama isolasi kalo paksa...</td>\n",
       "      <td>[gapapa, kontak, langsung, nama, isolasi, kalo...</td>\n",
       "    </tr>\n",
       "    <tr>\n",
       "      <th>99</th>\n",
       "      <td>5M: harus tetap\\nMenjaga jarak,\\nMencuci tanga...</td>\n",
       "      <td>harus tetapmenjaga jarakmencuci tanganmemakai...</td>\n",
       "      <td>tetapmenjaga jarakmencuci tanganmemakai masker...</td>\n",
       "      <td>tetapmenjaga jarakmencuci tanganmemakai masker...</td>\n",
       "      <td>[tetapmenjaga, jarakmencuci, tanganmemakai, ma...</td>\n",
       "    </tr>\n",
       "  </tbody>\n",
       "</table>\n",
       "<p>100 rows × 5 columns</p>\n",
       "</div>"
      ],
      "text/plain": [
       "                                              content  ...                                             tokens\n",
       "0                        @kyuhee___ Pake masker dong.  ...                                     [pake, masker]\n",
       "1   Gw bela2in pake double masker tp masih aja ada...  ...  [gw, pake, double, masker, tp, aja, yg, gapake...\n",
       "2   Personil Bhabinkamtibmas Desa Baturiti Polsek ...  ...  [personil, bhabinkamtibmas, desa, baturiti, po...\n",
       "3   Itu baru planning ke dpn, coba lu baca\\n\\nSkrg...  ...  [planning, dpn, coba, lu, bacaskrg, singapore,...\n",
       "4   @rahasiarif kak arif juga stay safe yah, kalo ...  ...  [kak, arif, stay, safe, yah, kalo, kluar, jgn,...\n",
       "..                                                ...  ...                                                ...\n",
       "95  @Larasati_Nikken Benerr. tp mau gmn lg ya samp...  ...  [benerr, tp, gmn, lg, ya, sampe, skrg, aja, vi...\n",
       "96  pake masker medis trus di dobel di luar perasa...  ...  [pake, masker, medis, trus, dobel, asa, engap,...\n",
       "97                         Sesek juga pake dua masker  ...                                [sek, pake, masker]\n",
       "98  @Askrlfess Gapapa. Asal jangan kontak langsung...  ...  [gapapa, kontak, langsung, nama, isolasi, kalo...\n",
       "99  5M: harus tetap\\nMenjaga jarak,\\nMencuci tanga...  ...  [tetapmenjaga, jarakmencuci, tanganmemakai, ma...\n",
       "\n",
       "[100 rows x 5 columns]"
      ]
     },
     "execution_count": 34,
     "metadata": {
      "tags": []
     },
     "output_type": "execute_result"
    }
   ],
   "source": [
    "df['tokens'] = pd.DataFrame(df['clean3'].apply(nltk.word_tokenize))\n",
    "df"
   ]
  },
  {
   "cell_type": "code",
   "execution_count": null,
   "metadata": {
    "id": "E_nJzuvzkpm2"
   },
   "outputs": [],
   "source": [
    "translator = google_translator()  "
   ]
  },
  {
   "cell_type": "code",
   "execution_count": null,
   "metadata": {
    "id": "y-zvvWxDkft1"
   },
   "outputs": [],
   "source": [
    "def translate_column(text, target_language):\n",
    "    return translator.translate(text, lang_tgt=target_language)"
   ]
  },
  {
   "cell_type": "code",
   "execution_count": null,
   "metadata": {
    "id": "Kke2FUvfki-e"
   },
   "outputs": [],
   "source": [
    "df['clean_english'] = df['clean3'].apply(lambda x: translate_column(x, 'en'))"
   ]
  },
  {
   "cell_type": "code",
   "execution_count": null,
   "metadata": {
    "colab": {
     "base_uri": "https://localhost:8080/",
     "height": 272
    },
    "executionInfo": {
     "elapsed": 466,
     "status": "ok",
     "timestamp": 1624940123253,
     "user": {
      "displayName": "Arif Agustyawan",
      "photoUrl": "https://lh3.googleusercontent.com/a-/AOh14Gh9uApKQSWG8ogeB8DBfDQMuhFt7TBksOpgrYN7YQ=s64",
      "userId": "16514179669705499636"
     },
     "user_tz": -420
    },
    "id": "P6jUJgHMk0_D",
    "outputId": "5bd049ed-9a82-4d1a-8684-09d6a4a24871"
   },
   "outputs": [
    {
     "data": {
      "text/html": [
       "<div>\n",
       "<style scoped>\n",
       "    .dataframe tbody tr th:only-of-type {\n",
       "        vertical-align: middle;\n",
       "    }\n",
       "\n",
       "    .dataframe tbody tr th {\n",
       "        vertical-align: top;\n",
       "    }\n",
       "\n",
       "    .dataframe thead th {\n",
       "        text-align: right;\n",
       "    }\n",
       "</style>\n",
       "<table border=\"1\" class=\"dataframe\">\n",
       "  <thead>\n",
       "    <tr style=\"text-align: right;\">\n",
       "      <th></th>\n",
       "      <th>content</th>\n",
       "      <th>clean1</th>\n",
       "      <th>clean2</th>\n",
       "      <th>clean3</th>\n",
       "      <th>tokens</th>\n",
       "      <th>clean_english</th>\n",
       "    </tr>\n",
       "  </thead>\n",
       "  <tbody>\n",
       "    <tr>\n",
       "      <th>0</th>\n",
       "      <td>@kyuhee___ Pake masker dong.</td>\n",
       "      <td>pake masker dong</td>\n",
       "      <td>pake masker</td>\n",
       "      <td>pake masker</td>\n",
       "      <td>[pake, masker]</td>\n",
       "      <td>Use a mask</td>\n",
       "    </tr>\n",
       "    <tr>\n",
       "      <th>1</th>\n",
       "      <td>Gw bela2in pake double masker tp masih aja ada...</td>\n",
       "      <td>gw  pake double masker tp masih aja ada yg gap...</td>\n",
       "      <td>gw pake double masker tp aja yg gapake masker ...</td>\n",
       "      <td>gw pake double masker tp aja yg gapake masker ...</td>\n",
       "      <td>[gw, pake, double, masker, tp, aja, yg, gapake...</td>\n",
       "      <td>I use a double mask but just what gapake mask ...</td>\n",
       "    </tr>\n",
       "    <tr>\n",
       "      <th>2</th>\n",
       "      <td>Personil Bhabinkamtibmas Desa Baturiti Polsek ...</td>\n",
       "      <td>personil bhabinkamtibmas desa baturiti polsek ...</td>\n",
       "      <td>personil bhabinkamtibmas desa baturiti polsek ...</td>\n",
       "      <td>personil bhabinkamtibmas desa baturiti polsek ...</td>\n",
       "      <td>[personil, bhabinkamtibmas, desa, baturiti, po...</td>\n",
       "      <td>Personnel Bhabinkamtibmas Baturiti Village Pol...</td>\n",
       "    </tr>\n",
       "    <tr>\n",
       "      <th>3</th>\n",
       "      <td>Itu baru planning ke dpn, coba lu baca\\n\\nSkrg...</td>\n",
       "      <td>itu baru planning ke dpn coba lu bacaskrg ini ...</td>\n",
       "      <td>planning dpn coba lu bacaskrg singapore sdg wa...</td>\n",
       "      <td>planning dpn coba lu bacaskrg singapore sdg wa...</td>\n",
       "      <td>[planning, dpn, coba, lu, bacaskrg, singapore,...</td>\n",
       "      <td>Planning Dpn Try Lu Bacaskrg Singapore Sdg Nar...</td>\n",
       "    </tr>\n",
       "    <tr>\n",
       "      <th>4</th>\n",
       "      <td>@rahasiarif kak arif juga stay safe yah, kalo ...</td>\n",
       "      <td>kak arif juga stay safe yah kalo kluar jgn lu...</td>\n",
       "      <td>kak arif stay safe yah kalo kluar jgn lupa pak...</td>\n",
       "      <td>kak arif stay safe yah kalo kluar jgn lupa pak...</td>\n",
       "      <td>[kak, arif, stay, safe, yah, kalo, kluar, jgn,...</td>\n",
       "      <td>Sis Arif Stay Safe, if you don't forget to use...</td>\n",
       "    </tr>\n",
       "  </tbody>\n",
       "</table>\n",
       "</div>"
      ],
      "text/plain": [
       "                                             content  ...                                      clean_english\n",
       "0                       @kyuhee___ Pake masker dong.  ...                                        Use a mask \n",
       "1  Gw bela2in pake double masker tp masih aja ada...  ...  I use a double mask but just what gapake mask ...\n",
       "2  Personil Bhabinkamtibmas Desa Baturiti Polsek ...  ...  Personnel Bhabinkamtibmas Baturiti Village Pol...\n",
       "3  Itu baru planning ke dpn, coba lu baca\\n\\nSkrg...  ...  Planning Dpn Try Lu Bacaskrg Singapore Sdg Nar...\n",
       "4  @rahasiarif kak arif juga stay safe yah, kalo ...  ...  Sis Arif Stay Safe, if you don't forget to use...\n",
       "\n",
       "[5 rows x 6 columns]"
      ]
     },
     "execution_count": 39,
     "metadata": {
      "tags": []
     },
     "output_type": "execute_result"
    }
   ],
   "source": [
    "df.head()"
   ]
  },
  {
   "cell_type": "code",
   "execution_count": null,
   "metadata": {
    "id": "rRVj_kbsk761"
   },
   "outputs": [],
   "source": [
    "df.to_csv('/content/drive/MyDrive/final-project/dataset/dataset_masker_clean.csv', index=None)"
   ]
  },
  {
   "cell_type": "markdown",
   "metadata": {
    "id": "CErSKh2INqRY"
   },
   "source": [
    "## **Modeling with TextBlob**"
   ]
  },
  {
   "cell_type": "markdown",
   "metadata": {
    "id": "X5FJO6QbtovR"
   },
   "source": [
    "### Process"
   ]
  },
  {
   "cell_type": "code",
   "execution_count": 107,
   "metadata": {
    "colab": {
     "base_uri": "https://localhost:8080/",
     "height": 272
    },
    "executionInfo": {
     "elapsed": 408,
     "status": "ok",
     "timestamp": 1624963824539,
     "user": {
      "displayName": "Arif Agustyawan",
      "photoUrl": "https://lh3.googleusercontent.com/a-/AOh14Gh9uApKQSWG8ogeB8DBfDQMuhFt7TBksOpgrYN7YQ=s64",
      "userId": "16514179669705499636"
     },
     "user_tz": -420
    },
    "id": "fZGxglc9DlNF",
    "outputId": "1282ce3f-730f-432a-bbb8-9c9ff1926bdc"
   },
   "outputs": [
    {
     "data": {
      "text/html": [
       "<div>\n",
       "<style scoped>\n",
       "    .dataframe tbody tr th:only-of-type {\n",
       "        vertical-align: middle;\n",
       "    }\n",
       "\n",
       "    .dataframe tbody tr th {\n",
       "        vertical-align: top;\n",
       "    }\n",
       "\n",
       "    .dataframe thead th {\n",
       "        text-align: right;\n",
       "    }\n",
       "</style>\n",
       "<table border=\"1\" class=\"dataframe\">\n",
       "  <thead>\n",
       "    <tr style=\"text-align: right;\">\n",
       "      <th></th>\n",
       "      <th>content</th>\n",
       "      <th>clean1</th>\n",
       "      <th>clean2</th>\n",
       "      <th>clean3</th>\n",
       "      <th>tokens</th>\n",
       "      <th>clean_english</th>\n",
       "      <th>label</th>\n",
       "    </tr>\n",
       "  </thead>\n",
       "  <tbody>\n",
       "    <tr>\n",
       "      <th>0</th>\n",
       "      <td>@kyuhee___ Pake masker dong.</td>\n",
       "      <td>pake masker dong</td>\n",
       "      <td>pake masker</td>\n",
       "      <td>pake masker</td>\n",
       "      <td>['pake', 'masker']</td>\n",
       "      <td>Use a mask</td>\n",
       "      <td>neutral</td>\n",
       "    </tr>\n",
       "    <tr>\n",
       "      <th>1</th>\n",
       "      <td>Gw bela2in pake double masker tp masih aja ada...</td>\n",
       "      <td>gw  pake double masker tp masih aja ada yg gap...</td>\n",
       "      <td>gw pake double masker tp aja yg gapake masker ...</td>\n",
       "      <td>gw pake double masker tp aja yg gapake masker ...</td>\n",
       "      <td>['gw', 'pake', 'double', 'masker', 'tp', 'aja'...</td>\n",
       "      <td>I use a double mask but just what gapake mask ...</td>\n",
       "      <td>positive</td>\n",
       "    </tr>\n",
       "    <tr>\n",
       "      <th>2</th>\n",
       "      <td>Personil Bhabinkamtibmas Desa Baturiti Polsek ...</td>\n",
       "      <td>personil bhabinkamtibmas desa baturiti polsek ...</td>\n",
       "      <td>personil bhabinkamtibmas desa baturiti polsek ...</td>\n",
       "      <td>personil bhabinkamtibmas desa baturiti polsek ...</td>\n",
       "      <td>['personil', 'bhabinkamtibmas', 'desa', 'batur...</td>\n",
       "      <td>Personnel Bhabinkamtibmas Baturiti Village Pol...</td>\n",
       "      <td>positive</td>\n",
       "    </tr>\n",
       "    <tr>\n",
       "      <th>3</th>\n",
       "      <td>Itu baru planning ke dpn, coba lu baca\\n\\nSkrg...</td>\n",
       "      <td>itu baru planning ke dpn coba lu bacaskrg ini ...</td>\n",
       "      <td>planning dpn coba lu bacaskrg singapore sdg wa...</td>\n",
       "      <td>planning dpn coba lu bacaskrg singapore sdg wa...</td>\n",
       "      <td>['planning', 'dpn', 'coba', 'lu', 'bacaskrg', ...</td>\n",
       "      <td>Planning Dpn Try Lu Bacaskrg Singapore Sdg Nar...</td>\n",
       "      <td>positive</td>\n",
       "    </tr>\n",
       "    <tr>\n",
       "      <th>4</th>\n",
       "      <td>@rahasiarif kak arif juga stay safe yah, kalo ...</td>\n",
       "      <td>kak arif juga stay safe yah kalo kluar jgn lu...</td>\n",
       "      <td>kak arif stay safe yah kalo kluar jgn lupa pak...</td>\n",
       "      <td>kak arif stay safe yah kalo kluar jgn lupa pak...</td>\n",
       "      <td>['kak', 'arif', 'stay', 'safe', 'yah', 'kalo',...</td>\n",
       "      <td>Sis Arif Stay Safe, if you don't forget to use...</td>\n",
       "      <td>positive</td>\n",
       "    </tr>\n",
       "  </tbody>\n",
       "</table>\n",
       "</div>"
      ],
      "text/plain": [
       "                                             content  ...     label\n",
       "0                       @kyuhee___ Pake masker dong.  ...   neutral\n",
       "1  Gw bela2in pake double masker tp masih aja ada...  ...  positive\n",
       "2  Personil Bhabinkamtibmas Desa Baturiti Polsek ...  ...  positive\n",
       "3  Itu baru planning ke dpn, coba lu baca\\n\\nSkrg...  ...  positive\n",
       "4  @rahasiarif kak arif juga stay safe yah, kalo ...  ...  positive\n",
       "\n",
       "[5 rows x 7 columns]"
      ]
     },
     "execution_count": 107,
     "metadata": {
      "tags": []
     },
     "output_type": "execute_result"
    }
   ],
   "source": [
    "df = pd.read_csv('/content/drive/MyDrive/final-project/dataset/dataset_masker_clean_english.csv')\n",
    "df.head()"
   ]
  },
  {
   "cell_type": "code",
   "execution_count": 108,
   "metadata": {
    "colab": {
     "base_uri": "https://localhost:8080/"
    },
    "executionInfo": {
     "elapsed": 26,
     "status": "ok",
     "timestamp": 1624963828752,
     "user": {
      "displayName": "Arif Agustyawan",
      "photoUrl": "https://lh3.googleusercontent.com/a-/AOh14Gh9uApKQSWG8ogeB8DBfDQMuhFt7TBksOpgrYN7YQ=s64",
      "userId": "16514179669705499636"
     },
     "user_tz": -420
    },
    "id": "j4fuylSJD4A5",
    "outputId": "e29c0ec7-c308-4672-92ef-d530427a2093"
   },
   "outputs": [
    {
     "data": {
      "text/plain": [
       "positive    50\n",
       "neutral     36\n",
       "negative    14\n",
       "Name: label, dtype: int64"
      ]
     },
     "execution_count": 108,
     "metadata": {
      "tags": []
     },
     "output_type": "execute_result"
    }
   ],
   "source": [
    "df['label'].value_counts()"
   ]
  },
  {
   "cell_type": "code",
   "execution_count": 109,
   "metadata": {
    "executionInfo": {
     "elapsed": 24,
     "status": "ok",
     "timestamp": 1624963834266,
     "user": {
      "displayName": "Arif Agustyawan",
      "photoUrl": "https://lh3.googleusercontent.com/a-/AOh14Gh9uApKQSWG8ogeB8DBfDQMuhFt7TBksOpgrYN7YQ=s64",
      "userId": "16514179669705499636"
     },
     "user_tz": -420
    },
    "id": "yDa-Fq_6D9S6"
   },
   "outputs": [],
   "source": [
    "df['clean_english'] = df['clean_english'].astype('str')\n",
    "def get_polarity(text):\n",
    "  return TextBlob(text).sentiment.polarity"
   ]
  },
  {
   "cell_type": "code",
   "execution_count": 110,
   "metadata": {
    "colab": {
     "base_uri": "https://localhost:8080/",
     "height": 272
    },
    "executionInfo": {
     "elapsed": 400,
     "status": "ok",
     "timestamp": 1624963837942,
     "user": {
      "displayName": "Arif Agustyawan",
      "photoUrl": "https://lh3.googleusercontent.com/a-/AOh14Gh9uApKQSWG8ogeB8DBfDQMuhFt7TBksOpgrYN7YQ=s64",
      "userId": "16514179669705499636"
     },
     "user_tz": -420
    },
    "id": "2z4amVLSEAOw",
    "outputId": "784df3e4-664a-4ce1-f935-c2ee35457d11"
   },
   "outputs": [
    {
     "data": {
      "text/html": [
       "<div>\n",
       "<style scoped>\n",
       "    .dataframe tbody tr th:only-of-type {\n",
       "        vertical-align: middle;\n",
       "    }\n",
       "\n",
       "    .dataframe tbody tr th {\n",
       "        vertical-align: top;\n",
       "    }\n",
       "\n",
       "    .dataframe thead th {\n",
       "        text-align: right;\n",
       "    }\n",
       "</style>\n",
       "<table border=\"1\" class=\"dataframe\">\n",
       "  <thead>\n",
       "    <tr style=\"text-align: right;\">\n",
       "      <th></th>\n",
       "      <th>content</th>\n",
       "      <th>clean1</th>\n",
       "      <th>clean2</th>\n",
       "      <th>clean3</th>\n",
       "      <th>tokens</th>\n",
       "      <th>clean_english</th>\n",
       "      <th>label</th>\n",
       "      <th>polarity</th>\n",
       "    </tr>\n",
       "  </thead>\n",
       "  <tbody>\n",
       "    <tr>\n",
       "      <th>0</th>\n",
       "      <td>@kyuhee___ Pake masker dong.</td>\n",
       "      <td>pake masker dong</td>\n",
       "      <td>pake masker</td>\n",
       "      <td>pake masker</td>\n",
       "      <td>['pake', 'masker']</td>\n",
       "      <td>Use a mask</td>\n",
       "      <td>neutral</td>\n",
       "      <td>0.000000</td>\n",
       "    </tr>\n",
       "    <tr>\n",
       "      <th>1</th>\n",
       "      <td>Gw bela2in pake double masker tp masih aja ada...</td>\n",
       "      <td>gw  pake double masker tp masih aja ada yg gap...</td>\n",
       "      <td>gw pake double masker tp aja yg gapake masker ...</td>\n",
       "      <td>gw pake double masker tp aja yg gapake masker ...</td>\n",
       "      <td>['gw', 'pake', 'double', 'masker', 'tp', 'aja'...</td>\n",
       "      <td>I use a double mask but just what gapake mask ...</td>\n",
       "      <td>positive</td>\n",
       "      <td>0.250000</td>\n",
       "    </tr>\n",
       "    <tr>\n",
       "      <th>2</th>\n",
       "      <td>Personil Bhabinkamtibmas Desa Baturiti Polsek ...</td>\n",
       "      <td>personil bhabinkamtibmas desa baturiti polsek ...</td>\n",
       "      <td>personil bhabinkamtibmas desa baturiti polsek ...</td>\n",
       "      <td>personil bhabinkamtibmas desa baturiti polsek ...</td>\n",
       "      <td>['personil', 'bhabinkamtibmas', 'desa', 'batur...</td>\n",
       "      <td>Personnel Bhabinkamtibmas Baturiti Village Pol...</td>\n",
       "      <td>positive</td>\n",
       "      <td>0.400000</td>\n",
       "    </tr>\n",
       "    <tr>\n",
       "      <th>3</th>\n",
       "      <td>Itu baru planning ke dpn, coba lu baca\\n\\nSkrg...</td>\n",
       "      <td>itu baru planning ke dpn coba lu bacaskrg ini ...</td>\n",
       "      <td>planning dpn coba lu bacaskrg singapore sdg wa...</td>\n",
       "      <td>planning dpn coba lu bacaskrg singapore sdg wa...</td>\n",
       "      <td>['planning', 'dpn', 'coba', 'lu', 'bacaskrg', ...</td>\n",
       "      <td>Planning Dpn Try Lu Bacaskrg Singapore Sdg Nar...</td>\n",
       "      <td>positive</td>\n",
       "      <td>0.134286</td>\n",
       "    </tr>\n",
       "    <tr>\n",
       "      <th>4</th>\n",
       "      <td>@rahasiarif kak arif juga stay safe yah, kalo ...</td>\n",
       "      <td>kak arif juga stay safe yah kalo kluar jgn lu...</td>\n",
       "      <td>kak arif stay safe yah kalo kluar jgn lupa pak...</td>\n",
       "      <td>kak arif stay safe yah kalo kluar jgn lupa pak...</td>\n",
       "      <td>['kak', 'arif', 'stay', 'safe', 'yah', 'kalo',...</td>\n",
       "      <td>Sis Arif Stay Safe, if you don't forget to use...</td>\n",
       "      <td>positive</td>\n",
       "      <td>0.500000</td>\n",
       "    </tr>\n",
       "  </tbody>\n",
       "</table>\n",
       "</div>"
      ],
      "text/plain": [
       "                                             content  ...  polarity\n",
       "0                       @kyuhee___ Pake masker dong.  ...  0.000000\n",
       "1  Gw bela2in pake double masker tp masih aja ada...  ...  0.250000\n",
       "2  Personil Bhabinkamtibmas Desa Baturiti Polsek ...  ...  0.400000\n",
       "3  Itu baru planning ke dpn, coba lu baca\\n\\nSkrg...  ...  0.134286\n",
       "4  @rahasiarif kak arif juga stay safe yah, kalo ...  ...  0.500000\n",
       "\n",
       "[5 rows x 8 columns]"
      ]
     },
     "execution_count": 110,
     "metadata": {
      "tags": []
     },
     "output_type": "execute_result"
    }
   ],
   "source": [
    "df['polarity'] = df['clean_english'].apply(get_polarity)\n",
    "df.head()"
   ]
  },
  {
   "cell_type": "code",
   "execution_count": 111,
   "metadata": {
    "colab": {
     "base_uri": "https://localhost:8080/",
     "height": 204
    },
    "executionInfo": {
     "elapsed": 6,
     "status": "ok",
     "timestamp": 1624963839552,
     "user": {
      "displayName": "Arif Agustyawan",
      "photoUrl": "https://lh3.googleusercontent.com/a-/AOh14Gh9uApKQSWG8ogeB8DBfDQMuhFt7TBksOpgrYN7YQ=s64",
      "userId": "16514179669705499636"
     },
     "user_tz": -420
    },
    "id": "yAcYf4Q8EHNz",
    "outputId": "42250573-9b05-478e-af11-c9f64d6d4374"
   },
   "outputs": [
    {
     "data": {
      "text/html": [
       "<div>\n",
       "<style scoped>\n",
       "    .dataframe tbody tr th:only-of-type {\n",
       "        vertical-align: middle;\n",
       "    }\n",
       "\n",
       "    .dataframe tbody tr th {\n",
       "        vertical-align: top;\n",
       "    }\n",
       "\n",
       "    .dataframe thead th {\n",
       "        text-align: right;\n",
       "    }\n",
       "</style>\n",
       "<table border=\"1\" class=\"dataframe\">\n",
       "  <thead>\n",
       "    <tr style=\"text-align: right;\">\n",
       "      <th></th>\n",
       "      <th>content</th>\n",
       "      <th>clean_english</th>\n",
       "      <th>label</th>\n",
       "      <th>polarity</th>\n",
       "    </tr>\n",
       "  </thead>\n",
       "  <tbody>\n",
       "    <tr>\n",
       "      <th>0</th>\n",
       "      <td>@kyuhee___ Pake masker dong.</td>\n",
       "      <td>Use a mask</td>\n",
       "      <td>neutral</td>\n",
       "      <td>0.000000</td>\n",
       "    </tr>\n",
       "    <tr>\n",
       "      <th>1</th>\n",
       "      <td>Gw bela2in pake double masker tp masih aja ada...</td>\n",
       "      <td>I use a double mask but just what gapake mask ...</td>\n",
       "      <td>positive</td>\n",
       "      <td>0.250000</td>\n",
       "    </tr>\n",
       "    <tr>\n",
       "      <th>2</th>\n",
       "      <td>Personil Bhabinkamtibmas Desa Baturiti Polsek ...</td>\n",
       "      <td>Personnel Bhabinkamtibmas Baturiti Village Pol...</td>\n",
       "      <td>positive</td>\n",
       "      <td>0.400000</td>\n",
       "    </tr>\n",
       "    <tr>\n",
       "      <th>3</th>\n",
       "      <td>Itu baru planning ke dpn, coba lu baca\\n\\nSkrg...</td>\n",
       "      <td>Planning Dpn Try Lu Bacaskrg Singapore Sdg Nar...</td>\n",
       "      <td>positive</td>\n",
       "      <td>0.134286</td>\n",
       "    </tr>\n",
       "    <tr>\n",
       "      <th>4</th>\n",
       "      <td>@rahasiarif kak arif juga stay safe yah, kalo ...</td>\n",
       "      <td>Sis Arif Stay Safe, if you don't forget to use...</td>\n",
       "      <td>positive</td>\n",
       "      <td>0.500000</td>\n",
       "    </tr>\n",
       "  </tbody>\n",
       "</table>\n",
       "</div>"
      ],
      "text/plain": [
       "                                             content  ...  polarity\n",
       "0                       @kyuhee___ Pake masker dong.  ...  0.000000\n",
       "1  Gw bela2in pake double masker tp masih aja ada...  ...  0.250000\n",
       "2  Personil Bhabinkamtibmas Desa Baturiti Polsek ...  ...  0.400000\n",
       "3  Itu baru planning ke dpn, coba lu baca\\n\\nSkrg...  ...  0.134286\n",
       "4  @rahasiarif kak arif juga stay safe yah, kalo ...  ...  0.500000\n",
       "\n",
       "[5 rows x 4 columns]"
      ]
     },
     "execution_count": 111,
     "metadata": {
      "tags": []
     },
     "output_type": "execute_result"
    }
   ],
   "source": [
    "df = df.drop(columns=['clean1', 'clean2', 'clean3','tokens'])\n",
    "df.head()"
   ]
  },
  {
   "cell_type": "code",
   "execution_count": 112,
   "metadata": {
    "executionInfo": {
     "elapsed": 409,
     "status": "ok",
     "timestamp": 1624963842144,
     "user": {
      "displayName": "Arif Agustyawan",
      "photoUrl": "https://lh3.googleusercontent.com/a-/AOh14Gh9uApKQSWG8ogeB8DBfDQMuhFt7TBksOpgrYN7YQ=s64",
      "userId": "16514179669705499636"
     },
     "user_tz": -420
    },
    "id": "awRup7AKEKKV"
   },
   "outputs": [],
   "source": [
    "df['sentimen_textblob']=''\n",
    "df.loc[df.polarity>0,'sentimen_textblob']='positive'\n",
    "df.loc[df.polarity==0,'sentimen_textblob']='neutral'\n",
    "df.loc[df.polarity<0,'sentimen_textblob']='negative'"
   ]
  },
  {
   "cell_type": "code",
   "execution_count": 113,
   "metadata": {
    "colab": {
     "base_uri": "https://localhost:8080/",
     "height": 204
    },
    "executionInfo": {
     "elapsed": 364,
     "status": "ok",
     "timestamp": 1624963844710,
     "user": {
      "displayName": "Arif Agustyawan",
      "photoUrl": "https://lh3.googleusercontent.com/a-/AOh14Gh9uApKQSWG8ogeB8DBfDQMuhFt7TBksOpgrYN7YQ=s64",
      "userId": "16514179669705499636"
     },
     "user_tz": -420
    },
    "id": "fXFo71lBEMsn",
    "outputId": "e65f8c19-1ee4-46a6-ef86-4fd635f5d7db"
   },
   "outputs": [
    {
     "data": {
      "text/html": [
       "<div>\n",
       "<style scoped>\n",
       "    .dataframe tbody tr th:only-of-type {\n",
       "        vertical-align: middle;\n",
       "    }\n",
       "\n",
       "    .dataframe tbody tr th {\n",
       "        vertical-align: top;\n",
       "    }\n",
       "\n",
       "    .dataframe thead th {\n",
       "        text-align: right;\n",
       "    }\n",
       "</style>\n",
       "<table border=\"1\" class=\"dataframe\">\n",
       "  <thead>\n",
       "    <tr style=\"text-align: right;\">\n",
       "      <th></th>\n",
       "      <th>content</th>\n",
       "      <th>clean_english</th>\n",
       "      <th>label</th>\n",
       "      <th>polarity</th>\n",
       "      <th>sentimen_textblob</th>\n",
       "    </tr>\n",
       "  </thead>\n",
       "  <tbody>\n",
       "    <tr>\n",
       "      <th>0</th>\n",
       "      <td>@kyuhee___ Pake masker dong.</td>\n",
       "      <td>Use a mask</td>\n",
       "      <td>neutral</td>\n",
       "      <td>0.000000</td>\n",
       "      <td>neutral</td>\n",
       "    </tr>\n",
       "    <tr>\n",
       "      <th>1</th>\n",
       "      <td>Gw bela2in pake double masker tp masih aja ada...</td>\n",
       "      <td>I use a double mask but just what gapake mask ...</td>\n",
       "      <td>positive</td>\n",
       "      <td>0.250000</td>\n",
       "      <td>positive</td>\n",
       "    </tr>\n",
       "    <tr>\n",
       "      <th>2</th>\n",
       "      <td>Personil Bhabinkamtibmas Desa Baturiti Polsek ...</td>\n",
       "      <td>Personnel Bhabinkamtibmas Baturiti Village Pol...</td>\n",
       "      <td>positive</td>\n",
       "      <td>0.400000</td>\n",
       "      <td>positive</td>\n",
       "    </tr>\n",
       "    <tr>\n",
       "      <th>3</th>\n",
       "      <td>Itu baru planning ke dpn, coba lu baca\\n\\nSkrg...</td>\n",
       "      <td>Planning Dpn Try Lu Bacaskrg Singapore Sdg Nar...</td>\n",
       "      <td>positive</td>\n",
       "      <td>0.134286</td>\n",
       "      <td>positive</td>\n",
       "    </tr>\n",
       "    <tr>\n",
       "      <th>4</th>\n",
       "      <td>@rahasiarif kak arif juga stay safe yah, kalo ...</td>\n",
       "      <td>Sis Arif Stay Safe, if you don't forget to use...</td>\n",
       "      <td>positive</td>\n",
       "      <td>0.500000</td>\n",
       "      <td>positive</td>\n",
       "    </tr>\n",
       "  </tbody>\n",
       "</table>\n",
       "</div>"
      ],
      "text/plain": [
       "                                             content  ... sentimen_textblob\n",
       "0                       @kyuhee___ Pake masker dong.  ...           neutral\n",
       "1  Gw bela2in pake double masker tp masih aja ada...  ...          positive\n",
       "2  Personil Bhabinkamtibmas Desa Baturiti Polsek ...  ...          positive\n",
       "3  Itu baru planning ke dpn, coba lu baca\\n\\nSkrg...  ...          positive\n",
       "4  @rahasiarif kak arif juga stay safe yah, kalo ...  ...          positive\n",
       "\n",
       "[5 rows x 5 columns]"
      ]
     },
     "execution_count": 113,
     "metadata": {
      "tags": []
     },
     "output_type": "execute_result"
    }
   ],
   "source": [
    "df.head()"
   ]
  },
  {
   "cell_type": "code",
   "execution_count": 114,
   "metadata": {
    "colab": {
     "base_uri": "https://localhost:8080/"
    },
    "executionInfo": {
     "elapsed": 6,
     "status": "ok",
     "timestamp": 1624963846542,
     "user": {
      "displayName": "Arif Agustyawan",
      "photoUrl": "https://lh3.googleusercontent.com/a-/AOh14Gh9uApKQSWG8ogeB8DBfDQMuhFt7TBksOpgrYN7YQ=s64",
      "userId": "16514179669705499636"
     },
     "user_tz": -420
    },
    "id": "rPp-nJVQzNkp",
    "outputId": "e9514284-1ac5-4d21-e0b5-9ee75ac230b9"
   },
   "outputs": [
    {
     "name": "stdout",
     "output_type": "stream",
     "text": [
      "Positive\t: 42.0%\n",
      "Negative\t: 15.0%\n",
      "Neutral\t\t: 43.0%\n"
     ]
    }
   ],
   "source": [
    "positive=df[df['sentimen_textblob']==\"positive\"]\n",
    "print(\"Positive\\t: \"+str(positive.shape[0]/(df.shape[0])*100)+\"%\")\n",
    "pos=positive.shape[0]/df.shape[0]*100\n",
    "\n",
    "negative=df[df['sentimen_textblob']==\"negative\"]\n",
    "print(\"Negative\\t: \"+str(negative.shape[0]/(df.shape[0])*100)+\"%\")\n",
    "neg=negative.shape[0]/df.shape[0]*100\n",
    "\n",
    "neutral=df[df['sentimen_textblob']==\"neutral\"]\n",
    "print(\"Neutral\\t\\t: \"+str(neutral.shape[0]/(df.shape[0])*100)+\"%\")\n",
    "net=neutral.shape[0]/df.shape[0]*100"
   ]
  },
  {
   "cell_type": "code",
   "execution_count": 115,
   "metadata": {
    "executionInfo": {
     "elapsed": 565,
     "status": "ok",
     "timestamp": 1624963849494,
     "user": {
      "displayName": "Arif Agustyawan",
      "photoUrl": "https://lh3.googleusercontent.com/a-/AOh14Gh9uApKQSWG8ogeB8DBfDQMuhFt7TBksOpgrYN7YQ=s64",
      "userId": "16514179669705499636"
     },
     "user_tz": -420
    },
    "id": "POwi7ku3YAbr"
   },
   "outputs": [],
   "source": [
    "df.insert(1, 'value', 1)"
   ]
  },
  {
   "cell_type": "code",
   "execution_count": 116,
   "metadata": {
    "executionInfo": {
     "elapsed": 6,
     "status": "ok",
     "timestamp": 1624963850956,
     "user": {
      "displayName": "Arif Agustyawan",
      "photoUrl": "https://lh3.googleusercontent.com/a-/AOh14Gh9uApKQSWG8ogeB8DBfDQMuhFt7TBksOpgrYN7YQ=s64",
      "userId": "16514179669705499636"
     },
     "user_tz": -420
    },
    "id": "M4LN_Nb-pJpf"
   },
   "outputs": [],
   "source": [
    "def plot_bar(a,b):\n",
    "  plt.figure(figsize = (7,5))\n",
    "  plt.title('Tweet Sentiment', fontsize = 18)\n",
    "  colors=('#DF3D0E','#88A8E5','#5AE27F')\n",
    "  plt.bar(a,b, color = colors, edgecolor = 'black', linewidth = 1)\n",
    "  plt.xlabel('Sentiment', fontsize = 15)\n",
    "  plt.ylabel('Value', fontsize = 15)\n",
    "  plt.xticks(fontsize = 12)\n",
    "  plt.yticks(fontsize = 12)\n",
    "  for k, v in b.items():\n",
    "      plt.text(k, v-5, str(v), fontsize = 12, color = 'black', ha = 'center')"
   ]
  },
  {
   "cell_type": "markdown",
   "metadata": {
    "id": "RUZC-40BtuGz"
   },
   "source": [
    "### Result"
   ]
  },
  {
   "cell_type": "code",
   "execution_count": 118,
   "metadata": {
    "colab": {
     "base_uri": "https://localhost:8080/",
     "height": 362
    },
    "executionInfo": {
     "elapsed": 392,
     "status": "ok",
     "timestamp": 1624963902625,
     "user": {
      "displayName": "Arif Agustyawan",
      "photoUrl": "https://lh3.googleusercontent.com/a-/AOh14Gh9uApKQSWG8ogeB8DBfDQMuhFt7TBksOpgrYN7YQ=s64",
      "userId": "16514179669705499636"
     },
     "user_tz": -420
    },
    "id": "v2lwg4c3pgWw",
    "outputId": "af7f4bfc-e37e-480b-f13b-1191556b6ce8"
   },
   "outputs": [
    {
     "data": {
      "image/png": "[encoded data removed]",
      "text/plain": [
       "<Figure size 504x360 with 1 Axes>"
      ]
     },
     "metadata": {
      "needs_background": "light",
      "tags": []
     },
     "output_type": "display_data"
    }
   ],
   "source": [
    "st = df.groupby(['sentimen_textblob']).sum()\n",
    "st.reset_index(inplace = True)\n",
    "plot_bar(st['sentimen_textblob'], st['value'])"
   ]
  },
  {
   "cell_type": "code",
   "execution_count": 120,
   "metadata": {
    "colab": {
     "base_uri": "https://localhost:8080/",
     "height": 248
    },
    "executionInfo": {
     "elapsed": 1410,
     "status": "ok",
     "timestamp": 1624963913627,
     "user": {
      "displayName": "Arif Agustyawan",
      "photoUrl": "https://lh3.googleusercontent.com/a-/AOh14Gh9uApKQSWG8ogeB8DBfDQMuhFt7TBksOpgrYN7YQ=s64",
      "userId": "16514179669705499636"
     },
     "user_tz": -420
    },
    "id": "YGXykLfpEfcZ",
    "outputId": "847464d7-3f2c-4d90-c1c1-bb766c4c3e97"
   },
   "outputs": [
    {
     "data": {
      "image/png": "[encoded data removed]",
      "text/plain": [
       "<Figure size 432x288 with 1 Axes>"
      ]
     },
     "metadata": {
      "tags": []
     },
     "output_type": "display_data"
    }
   ],
   "source": [
    "explode=(0.1,0,0)\n",
    "labels = 'positive', 'negative','neutral'\n",
    "sizes=(pos,neg,net)\n",
    "colors=('#5AE27F','#DF3D0E','#88A8E5')\n",
    "\n",
    "plt.pie(sizes,explode=explode,colors=colors,autopct='%1.1f%%',startangle=120)\n",
    "plt.legend(labels,loc=(-0.05,0.05),shadow=True)\n",
    "plt.axis('equal')\n",
    "plt.savefig(\"Sentiment_Analysis TextBlob.png\")"
   ]
  },
  {
   "cell_type": "markdown",
   "metadata": {
    "id": "n9UZCqLlPny3"
   },
   "source": [
    "## **Modeling with Vader**"
   ]
  },
  {
   "cell_type": "markdown",
   "metadata": {
    "id": "310fUcnN4_hP"
   },
   "source": [
    "### Process"
   ]
  },
  {
   "cell_type": "code",
   "execution_count": 121,
   "metadata": {
    "executionInfo": {
     "elapsed": 376,
     "status": "ok",
     "timestamp": 1624963928214,
     "user": {
      "displayName": "Arif Agustyawan",
      "photoUrl": "https://lh3.googleusercontent.com/a-/AOh14Gh9uApKQSWG8ogeB8DBfDQMuhFt7TBksOpgrYN7YQ=s64",
      "userId": "16514179669705499636"
     },
     "user_tz": -420
    },
    "id": "tuip7He8Ej12"
   },
   "outputs": [],
   "source": [
    "sid = SentimentIntensityAnalyzer()"
   ]
  },
  {
   "cell_type": "code",
   "execution_count": 122,
   "metadata": {
    "colab": {
     "base_uri": "https://localhost:8080/",
     "height": 204
    },
    "executionInfo": {
     "elapsed": 23,
     "status": "ok",
     "timestamp": 1624963930737,
     "user": {
      "displayName": "Arif Agustyawan",
      "photoUrl": "https://lh3.googleusercontent.com/a-/AOh14Gh9uApKQSWG8ogeB8DBfDQMuhFt7TBksOpgrYN7YQ=s64",
      "userId": "16514179669705499636"
     },
     "user_tz": -420
    },
    "id": "yUJMZONrEl1W",
    "outputId": "56173f2f-c02a-455c-9197-32189ccf307d"
   },
   "outputs": [
    {
     "data": {
      "text/html": [
       "<div>\n",
       "<style scoped>\n",
       "    .dataframe tbody tr th:only-of-type {\n",
       "        vertical-align: middle;\n",
       "    }\n",
       "\n",
       "    .dataframe tbody tr th {\n",
       "        vertical-align: top;\n",
       "    }\n",
       "\n",
       "    .dataframe thead th {\n",
       "        text-align: right;\n",
       "    }\n",
       "</style>\n",
       "<table border=\"1\" class=\"dataframe\">\n",
       "  <thead>\n",
       "    <tr style=\"text-align: right;\">\n",
       "      <th></th>\n",
       "      <th>content</th>\n",
       "      <th>value</th>\n",
       "      <th>clean_english</th>\n",
       "      <th>label</th>\n",
       "      <th>polarity</th>\n",
       "      <th>sentimen_textblob</th>\n",
       "      <th>scores</th>\n",
       "    </tr>\n",
       "  </thead>\n",
       "  <tbody>\n",
       "    <tr>\n",
       "      <th>0</th>\n",
       "      <td>@kyuhee___ Pake masker dong.</td>\n",
       "      <td>1</td>\n",
       "      <td>Use a mask</td>\n",
       "      <td>neutral</td>\n",
       "      <td>0.000000</td>\n",
       "      <td>neutral</td>\n",
       "      <td>{'neg': 0.0, 'neu': 1.0, 'pos': 0.0, 'compound...</td>\n",
       "    </tr>\n",
       "    <tr>\n",
       "      <th>1</th>\n",
       "      <td>Gw bela2in pake double masker tp masih aja ada...</td>\n",
       "      <td>1</td>\n",
       "      <td>I use a double mask but just what gapake mask ...</td>\n",
       "      <td>positive</td>\n",
       "      <td>0.250000</td>\n",
       "      <td>positive</td>\n",
       "      <td>{'neg': 0.0, 'neu': 0.772, 'pos': 0.228, 'comp...</td>\n",
       "    </tr>\n",
       "    <tr>\n",
       "      <th>2</th>\n",
       "      <td>Personil Bhabinkamtibmas Desa Baturiti Polsek ...</td>\n",
       "      <td>1</td>\n",
       "      <td>Personnel Bhabinkamtibmas Baturiti Village Pol...</td>\n",
       "      <td>positive</td>\n",
       "      <td>0.400000</td>\n",
       "      <td>positive</td>\n",
       "      <td>{'neg': 0.0, 'neu': 0.827, 'pos': 0.173, 'comp...</td>\n",
       "    </tr>\n",
       "    <tr>\n",
       "      <th>3</th>\n",
       "      <td>Itu baru planning ke dpn, coba lu baca\\n\\nSkrg...</td>\n",
       "      <td>1</td>\n",
       "      <td>Planning Dpn Try Lu Bacaskrg Singapore Sdg Nar...</td>\n",
       "      <td>positive</td>\n",
       "      <td>0.134286</td>\n",
       "      <td>positive</td>\n",
       "      <td>{'neg': 0.0, 'neu': 0.855, 'pos': 0.145, 'comp...</td>\n",
       "    </tr>\n",
       "    <tr>\n",
       "      <th>4</th>\n",
       "      <td>@rahasiarif kak arif juga stay safe yah, kalo ...</td>\n",
       "      <td>1</td>\n",
       "      <td>Sis Arif Stay Safe, if you don't forget to use...</td>\n",
       "      <td>positive</td>\n",
       "      <td>0.500000</td>\n",
       "      <td>positive</td>\n",
       "      <td>{'neg': 0.0, 'neu': 0.687, 'pos': 0.313, 'comp...</td>\n",
       "    </tr>\n",
       "  </tbody>\n",
       "</table>\n",
       "</div>"
      ],
      "text/plain": [
       "                                             content  ...                                             scores\n",
       "0                       @kyuhee___ Pake masker dong.  ...  {'neg': 0.0, 'neu': 1.0, 'pos': 0.0, 'compound...\n",
       "1  Gw bela2in pake double masker tp masih aja ada...  ...  {'neg': 0.0, 'neu': 0.772, 'pos': 0.228, 'comp...\n",
       "2  Personil Bhabinkamtibmas Desa Baturiti Polsek ...  ...  {'neg': 0.0, 'neu': 0.827, 'pos': 0.173, 'comp...\n",
       "3  Itu baru planning ke dpn, coba lu baca\\n\\nSkrg...  ...  {'neg': 0.0, 'neu': 0.855, 'pos': 0.145, 'comp...\n",
       "4  @rahasiarif kak arif juga stay safe yah, kalo ...  ...  {'neg': 0.0, 'neu': 0.687, 'pos': 0.313, 'comp...\n",
       "\n",
       "[5 rows x 7 columns]"
      ]
     },
     "execution_count": 122,
     "metadata": {
      "tags": []
     },
     "output_type": "execute_result"
    }
   ],
   "source": [
    "df['scores'] = df['clean_english'].apply(lambda new_text: sid.polarity_scores(new_text))\n",
    "df.head()"
   ]
  },
  {
   "cell_type": "code",
   "execution_count": 123,
   "metadata": {
    "executionInfo": {
     "elapsed": 17,
     "status": "ok",
     "timestamp": 1624963935897,
     "user": {
      "displayName": "Arif Agustyawan",
      "photoUrl": "https://lh3.googleusercontent.com/a-/AOh14Gh9uApKQSWG8ogeB8DBfDQMuhFt7TBksOpgrYN7YQ=s64",
      "userId": "16514179669705499636"
     },
     "user_tz": -420
    },
    "id": "_LJ_Psr_Epjl"
   },
   "outputs": [],
   "source": [
    "df['compound'] = df['scores'].apply(lambda score_dict: score_dict['compound'])\n",
    "df['sentimen_vader']=''\n",
    "df.loc[df.compound>0,'sentimen_vader']='positive'\n",
    "df.loc[df.compound==0,'sentimen_vader']='neutral'\n",
    "df.loc[df.compound<0,'sentimen_vader']='negative'"
   ]
  },
  {
   "cell_type": "code",
   "execution_count": 124,
   "metadata": {
    "colab": {
     "base_uri": "https://localhost:8080/",
     "height": 204
    },
    "executionInfo": {
     "elapsed": 32,
     "status": "ok",
     "timestamp": 1624963939347,
     "user": {
      "displayName": "Arif Agustyawan",
      "photoUrl": "https://lh3.googleusercontent.com/a-/AOh14Gh9uApKQSWG8ogeB8DBfDQMuhFt7TBksOpgrYN7YQ=s64",
      "userId": "16514179669705499636"
     },
     "user_tz": -420
    },
    "id": "TeylZdhmErbM",
    "outputId": "cd2cfcc7-0006-4ad0-fe16-6c19ef2ceaec"
   },
   "outputs": [
    {
     "data": {
      "text/html": [
       "<div>\n",
       "<style scoped>\n",
       "    .dataframe tbody tr th:only-of-type {\n",
       "        vertical-align: middle;\n",
       "    }\n",
       "\n",
       "    .dataframe tbody tr th {\n",
       "        vertical-align: top;\n",
       "    }\n",
       "\n",
       "    .dataframe thead th {\n",
       "        text-align: right;\n",
       "    }\n",
       "</style>\n",
       "<table border=\"1\" class=\"dataframe\">\n",
       "  <thead>\n",
       "    <tr style=\"text-align: right;\">\n",
       "      <th></th>\n",
       "      <th>content</th>\n",
       "      <th>value</th>\n",
       "      <th>clean_english</th>\n",
       "      <th>label</th>\n",
       "      <th>polarity</th>\n",
       "      <th>sentimen_textblob</th>\n",
       "      <th>scores</th>\n",
       "      <th>compound</th>\n",
       "      <th>sentimen_vader</th>\n",
       "    </tr>\n",
       "  </thead>\n",
       "  <tbody>\n",
       "    <tr>\n",
       "      <th>0</th>\n",
       "      <td>@kyuhee___ Pake masker dong.</td>\n",
       "      <td>1</td>\n",
       "      <td>Use a mask</td>\n",
       "      <td>neutral</td>\n",
       "      <td>0.000000</td>\n",
       "      <td>neutral</td>\n",
       "      <td>{'neg': 0.0, 'neu': 1.0, 'pos': 0.0, 'compound...</td>\n",
       "      <td>0.0000</td>\n",
       "      <td>neutral</td>\n",
       "    </tr>\n",
       "    <tr>\n",
       "      <th>1</th>\n",
       "      <td>Gw bela2in pake double masker tp masih aja ada...</td>\n",
       "      <td>1</td>\n",
       "      <td>I use a double mask but just what gapake mask ...</td>\n",
       "      <td>positive</td>\n",
       "      <td>0.250000</td>\n",
       "      <td>positive</td>\n",
       "      <td>{'neg': 0.0, 'neu': 0.772, 'pos': 0.228, 'comp...</td>\n",
       "      <td>0.5499</td>\n",
       "      <td>positive</td>\n",
       "    </tr>\n",
       "    <tr>\n",
       "      <th>2</th>\n",
       "      <td>Personil Bhabinkamtibmas Desa Baturiti Polsek ...</td>\n",
       "      <td>1</td>\n",
       "      <td>Personnel Bhabinkamtibmas Baturiti Village Pol...</td>\n",
       "      <td>positive</td>\n",
       "      <td>0.400000</td>\n",
       "      <td>positive</td>\n",
       "      <td>{'neg': 0.0, 'neu': 0.827, 'pos': 0.173, 'comp...</td>\n",
       "      <td>0.5267</td>\n",
       "      <td>positive</td>\n",
       "    </tr>\n",
       "    <tr>\n",
       "      <th>3</th>\n",
       "      <td>Itu baru planning ke dpn, coba lu baca\\n\\nSkrg...</td>\n",
       "      <td>1</td>\n",
       "      <td>Planning Dpn Try Lu Bacaskrg Singapore Sdg Nar...</td>\n",
       "      <td>positive</td>\n",
       "      <td>0.134286</td>\n",
       "      <td>positive</td>\n",
       "      <td>{'neg': 0.0, 'neu': 0.855, 'pos': 0.145, 'comp...</td>\n",
       "      <td>0.6249</td>\n",
       "      <td>positive</td>\n",
       "    </tr>\n",
       "    <tr>\n",
       "      <th>4</th>\n",
       "      <td>@rahasiarif kak arif juga stay safe yah, kalo ...</td>\n",
       "      <td>1</td>\n",
       "      <td>Sis Arif Stay Safe, if you don't forget to use...</td>\n",
       "      <td>positive</td>\n",
       "      <td>0.500000</td>\n",
       "      <td>positive</td>\n",
       "      <td>{'neg': 0.0, 'neu': 0.687, 'pos': 0.313, 'comp...</td>\n",
       "      <td>0.5523</td>\n",
       "      <td>positive</td>\n",
       "    </tr>\n",
       "  </tbody>\n",
       "</table>\n",
       "</div>"
      ],
      "text/plain": [
       "                                             content  ...  sentimen_vader\n",
       "0                       @kyuhee___ Pake masker dong.  ...         neutral\n",
       "1  Gw bela2in pake double masker tp masih aja ada...  ...        positive\n",
       "2  Personil Bhabinkamtibmas Desa Baturiti Polsek ...  ...        positive\n",
       "3  Itu baru planning ke dpn, coba lu baca\\n\\nSkrg...  ...        positive\n",
       "4  @rahasiarif kak arif juga stay safe yah, kalo ...  ...        positive\n",
       "\n",
       "[5 rows x 9 columns]"
      ]
     },
     "execution_count": 124,
     "metadata": {
      "tags": []
     },
     "output_type": "execute_result"
    }
   ],
   "source": [
    "df.head()"
   ]
  },
  {
   "cell_type": "code",
   "execution_count": 125,
   "metadata": {
    "colab": {
     "base_uri": "https://localhost:8080/"
    },
    "executionInfo": {
     "elapsed": 28,
     "status": "ok",
     "timestamp": 1624963942251,
     "user": {
      "displayName": "Arif Agustyawan",
      "photoUrl": "https://lh3.googleusercontent.com/a-/AOh14Gh9uApKQSWG8ogeB8DBfDQMuhFt7TBksOpgrYN7YQ=s64",
      "userId": "16514179669705499636"
     },
     "user_tz": -420
    },
    "id": "Bt_rTRA-E3pb",
    "outputId": "fd2d3896-615d-4b33-ec8f-e1bc40906e0d"
   },
   "outputs": [
    {
     "name": "stdout",
     "output_type": "stream",
     "text": [
      "Positive\t: 45.0%\n",
      "Negative\t: 20.0%\n",
      "Neutral\t\t: 35.0%\n"
     ]
    }
   ],
   "source": [
    "positive=df[df['sentimen_vader']==\"positive\"]\n",
    "print(\"Positive\\t: \"+str(positive.shape[0]/(df.shape[0])*100)+\"%\")\n",
    "pos=positive.shape[0]/df.shape[0]*100\n",
    "\n",
    "negative=df[df['sentimen_vader']==\"negative\"]\n",
    "print(\"Negative\\t: \"+str(negative.shape[0]/(df.shape[0])*100)+\"%\")\n",
    "neg=negative.shape[0]/df.shape[0]*100\n",
    "\n",
    "neutral=df[df['sentimen_vader']==\"neutral\"]\n",
    "print(\"Neutral\\t\\t: \"+str(neutral.shape[0]/(df.shape[0])*100)+\"%\")\n",
    "net=neutral.shape[0]/df.shape[0]*100"
   ]
  },
  {
   "cell_type": "markdown",
   "metadata": {
    "id": "4npo-6k05OgR"
   },
   "source": [
    "### Result"
   ]
  },
  {
   "cell_type": "code",
   "execution_count": 126,
   "metadata": {
    "colab": {
     "base_uri": "https://localhost:8080/",
     "height": 362
    },
    "executionInfo": {
     "elapsed": 433,
     "status": "ok",
     "timestamp": 1624963954302,
     "user": {
      "displayName": "Arif Agustyawan",
      "photoUrl": "https://lh3.googleusercontent.com/a-/AOh14Gh9uApKQSWG8ogeB8DBfDQMuhFt7TBksOpgrYN7YQ=s64",
      "userId": "16514179669705499636"
     },
     "user_tz": -420
    },
    "id": "iN8u7Udxu3VD",
    "outputId": "e0ace273-0a9a-4bdc-d17c-64360c8e65da"
   },
   "outputs": [
    {
     "data": {
      "image/png": "[encoded data removed]",
      "text/plain": [
       "<Figure size 504x360 with 1 Axes>"
      ]
     },
     "metadata": {
      "needs_background": "light",
      "tags": []
     },
     "output_type": "display_data"
    }
   ],
   "source": [
    "st = df.groupby(['sentimen_vader']).sum()\n",
    "st.reset_index(inplace = True)\n",
    "plot_bar(st['sentimen_vader'], st['value'])"
   ]
  },
  {
   "cell_type": "code",
   "execution_count": 128,
   "metadata": {
    "colab": {
     "base_uri": "https://localhost:8080/",
     "height": 248
    },
    "executionInfo": {
     "elapsed": 46,
     "status": "ok",
     "timestamp": 1624963960101,
     "user": {
      "displayName": "Arif Agustyawan",
      "photoUrl": "https://lh3.googleusercontent.com/a-/AOh14Gh9uApKQSWG8ogeB8DBfDQMuhFt7TBksOpgrYN7YQ=s64",
      "userId": "16514179669705499636"
     },
     "user_tz": -420
    },
    "id": "evCH6VqEE9lA",
    "outputId": "ffd624cf-4c06-425c-a515-e902412fa3c8"
   },
   "outputs": [
    {
     "data": {
      "image/png": "[encoded data removed]",
      "text/plain": [
       "<Figure size 432x288 with 1 Axes>"
      ]
     },
     "metadata": {
      "tags": []
     },
     "output_type": "display_data"
    }
   ],
   "source": [
    "explode=(0,0.1,0)\n",
    "labels = 'positive', 'negative','neutral'\n",
    "sizes=(pos,neg,net)\n",
    "colors=('#5AE27F','#DF3D0E','#88A8E5')\n",
    "\n",
    "plt.pie(sizes,explode=explode,colors=colors,autopct='%1.1f%%',startangle=120)\n",
    "plt.legend(labels,loc=(-0.05,0.05),shadow=True)\n",
    "plt.axis('equal')\n",
    "plt.savefig(\"Sentiment_Analysis Vader.png\")"
   ]
  },
  {
   "cell_type": "code",
   "execution_count": 129,
   "metadata": {
    "executionInfo": {
     "elapsed": 8,
     "status": "ok",
     "timestamp": 1624963963645,
     "user": {
      "displayName": "Arif Agustyawan",
      "photoUrl": "https://lh3.googleusercontent.com/a-/AOh14Gh9uApKQSWG8ogeB8DBfDQMuhFt7TBksOpgrYN7YQ=s64",
      "userId": "16514179669705499636"
     },
     "user_tz": -420
    },
    "id": "ZsyK-2WyFAIT"
   },
   "outputs": [],
   "source": [
    "df.to_csv('/content/drive/MyDrive/final-project/hasil.csv', index=None)"
   ]
  },
  {
   "cell_type": "markdown",
   "metadata": {
    "id": "Ku-9XmAb1s1s"
   },
   "source": [
    "## **Accuracy**"
   ]
  },
  {
   "cell_type": "code",
   "execution_count": 206,
   "metadata": {
    "colab": {
     "base_uri": "https://localhost:8080/"
    },
    "executionInfo": {
     "elapsed": 534,
     "status": "ok",
     "timestamp": 1624968283808,
     "user": {
      "displayName": "Arif Agustyawan",
      "photoUrl": "https://lh3.googleusercontent.com/a-/AOh14Gh9uApKQSWG8ogeB8DBfDQMuhFt7TBksOpgrYN7YQ=s64",
      "userId": "16514179669705499636"
     },
     "user_tz": -420
    },
    "id": "aiJ84hhzFJQ4",
    "outputId": "307fcb42-eead-4e75-9cbf-a6e4c71c9a57"
   },
   "outputs": [
    {
     "data": {
      "text/plain": [
       "0.74"
      ]
     },
     "execution_count": 206,
     "metadata": {
      "tags": []
     },
     "output_type": "execute_result"
    }
   ],
   "source": [
    "accuracy_score(df['label'],df['sentimen_textblob'])"
   ]
  },
  {
   "cell_type": "code",
   "execution_count": null,
   "metadata": {
    "colab": {
     "base_uri": "https://localhost:8080/"
    },
    "executionInfo": {
     "elapsed": 594,
     "status": "ok",
     "timestamp": 1624956147403,
     "user": {
      "displayName": "Arif Agustyawan",
      "photoUrl": "https://lh3.googleusercontent.com/a-/AOh14Gh9uApKQSWG8ogeB8DBfDQMuhFt7TBksOpgrYN7YQ=s64",
      "userId": "16514179669705499636"
     },
     "user_tz": -420
    },
    "id": "NTH-aVC6FLyx",
    "outputId": "31435a7f-7c04-44ed-a639-24e08998c2c1"
   },
   "outputs": [
    {
     "name": "stdout",
     "output_type": "stream",
     "text": [
      "              precision    recall  f1-score   support\n",
      "\n",
      "    negative       0.53      0.57      0.55        14\n",
      "     neutral       0.70      0.83      0.76        36\n",
      "    positive       0.86      0.72      0.78        50\n",
      "\n",
      "    accuracy                           0.74       100\n",
      "   macro avg       0.70      0.71      0.70       100\n",
      "weighted avg       0.75      0.74      0.74       100\n",
      "\n"
     ]
    }
   ],
   "source": [
    "print(classification_report(df['label'],df['sentimen_textblob']))"
   ]
  },
  {
   "cell_type": "code",
   "execution_count": null,
   "metadata": {
    "colab": {
     "base_uri": "https://localhost:8080/"
    },
    "executionInfo": {
     "elapsed": 16,
     "status": "ok",
     "timestamp": 1624956149065,
     "user": {
      "displayName": "Arif Agustyawan",
      "photoUrl": "https://lh3.googleusercontent.com/a-/AOh14Gh9uApKQSWG8ogeB8DBfDQMuhFt7TBksOpgrYN7YQ=s64",
      "userId": "16514179669705499636"
     },
     "user_tz": -420
    },
    "id": "Oy8drb6rFNXy",
    "outputId": "eb7e9488-cddd-4c91-8ef0-2ebe5cc0b8dd"
   },
   "outputs": [
    {
     "name": "stdout",
     "output_type": "stream",
     "text": [
      "[[ 8  4  2]\n",
      " [ 2 30  4]\n",
      " [ 5  9 36]]\n"
     ]
    }
   ],
   "source": [
    "#Confusion Matrix Testing\n",
    "cm_pred = confusion_matrix(df['label'],df['sentimen_textblob'])\n",
    "print(cm_pred)"
   ]
  },
  {
   "cell_type": "code",
   "execution_count": null,
   "metadata": {
    "colab": {
     "base_uri": "https://localhost:8080/",
     "height": 428
    },
    "executionInfo": {
     "elapsed": 430,
     "status": "ok",
     "timestamp": 1624956151817,
     "user": {
      "displayName": "Arif Agustyawan",
      "photoUrl": "https://lh3.googleusercontent.com/a-/AOh14Gh9uApKQSWG8ogeB8DBfDQMuhFt7TBksOpgrYN7YQ=s64",
      "userId": "16514179669705499636"
     },
     "user_tz": -420
    },
    "id": "DPGnn3XWFPCV",
    "outputId": "176c6c93-7b56-4697-9ca0-a62b8579c9ec"
   },
   "outputs": [
    {
     "data": {
      "image/png": "[encoded data removed]",
      "text/plain": [
       "<Figure size 720x504 with 1 Axes>"
      ]
     },
     "metadata": {
      "needs_background": "light",
      "tags": []
     },
     "output_type": "display_data"
    }
   ],
   "source": [
    "df_cm_pred = pd.DataFrame(cm_pred, index = [i for i in [\"Negative\", \"Neutral\", \"Positive\"]],\n",
    "                          columns = [i for i in [\"Negative\", \"Neutral\", \"Positive\"]])\n",
    "\n",
    "plt.figure(figsize = (10,7))\n",
    "sn.heatmap(df_cm_pred, annot=True, cbar=False, fmt=\"d\")\n",
    "plt.savefig('/content/drive/MyDrive/final-project/confusion_matrix_textblob.jpg')"
   ]
  },
  {
   "cell_type": "code",
   "execution_count": null,
   "metadata": {
    "colab": {
     "base_uri": "https://localhost:8080/"
    },
    "executionInfo": {
     "elapsed": 461,
     "status": "ok",
     "timestamp": 1624956158291,
     "user": {
      "displayName": "Arif Agustyawan",
      "photoUrl": "https://lh3.googleusercontent.com/a-/AOh14Gh9uApKQSWG8ogeB8DBfDQMuhFt7TBksOpgrYN7YQ=s64",
      "userId": "16514179669705499636"
     },
     "user_tz": -420
    },
    "id": "ypeP25EpFYKQ",
    "outputId": "d794e440-cb3a-4f0a-f86e-1762d88d67e1"
   },
   "outputs": [
    {
     "data": {
      "text/plain": [
       "0.79"
      ]
     },
     "execution_count": 400,
     "metadata": {
      "tags": []
     },
     "output_type": "execute_result"
    }
   ],
   "source": [
    "accuracy_score(df['label'],df['sentimen_vader'])"
   ]
  },
  {
   "cell_type": "code",
   "execution_count": null,
   "metadata": {
    "colab": {
     "base_uri": "https://localhost:8080/"
    },
    "executionInfo": {
     "elapsed": 525,
     "status": "ok",
     "timestamp": 1624956164387,
     "user": {
      "displayName": "Arif Agustyawan",
      "photoUrl": "https://lh3.googleusercontent.com/a-/AOh14Gh9uApKQSWG8ogeB8DBfDQMuhFt7TBksOpgrYN7YQ=s64",
      "userId": "16514179669705499636"
     },
     "user_tz": -420
    },
    "id": "nYEXCtkHFZo_",
    "outputId": "0378e094-aa32-4895-99df-7b390580e51c"
   },
   "outputs": [
    {
     "name": "stdout",
     "output_type": "stream",
     "text": [
      "              precision    recall  f1-score   support\n",
      "\n",
      "    negative       0.50      0.71      0.59        14\n",
      "     neutral       0.83      0.81      0.82        36\n",
      "    positive       0.89      0.80      0.84        50\n",
      "\n",
      "    accuracy                           0.79       100\n",
      "   macro avg       0.74      0.77      0.75       100\n",
      "weighted avg       0.81      0.79      0.80       100\n",
      "\n"
     ]
    }
   ],
   "source": [
    "print(classification_report(df['label'],df['sentimen_vader']))"
   ]
  },
  {
   "cell_type": "code",
   "execution_count": null,
   "metadata": {
    "colab": {
     "base_uri": "https://localhost:8080/"
    },
    "executionInfo": {
     "elapsed": 446,
     "status": "ok",
     "timestamp": 1624956166413,
     "user": {
      "displayName": "Arif Agustyawan",
      "photoUrl": "https://lh3.googleusercontent.com/a-/AOh14Gh9uApKQSWG8ogeB8DBfDQMuhFt7TBksOpgrYN7YQ=s64",
      "userId": "16514179669705499636"
     },
     "user_tz": -420
    },
    "id": "zsn43g6SFcbM",
    "outputId": "c3c85ec6-3f83-494c-def4-46df0b6a71d3"
   },
   "outputs": [
    {
     "name": "stdout",
     "output_type": "stream",
     "text": [
      "[[10  2  2]\n",
      " [ 4 29  3]\n",
      " [ 6  4 40]]\n"
     ]
    }
   ],
   "source": [
    "#Confusion Matrix Testing\n",
    "cm_pred = confusion_matrix(df['label'],df['sentimen_vader'])\n",
    "print(cm_pred)"
   ]
  },
  {
   "cell_type": "code",
   "execution_count": null,
   "metadata": {
    "colab": {
     "base_uri": "https://localhost:8080/",
     "height": 428
    },
    "executionInfo": {
     "elapsed": 486,
     "status": "ok",
     "timestamp": 1624956168951,
     "user": {
      "displayName": "Arif Agustyawan",
      "photoUrl": "https://lh3.googleusercontent.com/a-/AOh14Gh9uApKQSWG8ogeB8DBfDQMuhFt7TBksOpgrYN7YQ=s64",
      "userId": "16514179669705499636"
     },
     "user_tz": -420
    },
    "id": "NjhcTeODFeD8",
    "outputId": "06f31c3c-3cf9-4980-a308-8a0994f6484d"
   },
   "outputs": [
    {
     "data": {
      "image/png": "[encoded data removed]",
      "text/plain": [
       "<Figure size 720x504 with 1 Axes>"
      ]
     },
     "metadata": {
      "needs_background": "light",
      "tags": []
     },
     "output_type": "display_data"
    }
   ],
   "source": [
    "df_cm_pred = pd.DataFrame(cm_pred, index = [i for i in [\"Negative\", \"Neutral\", \"Positive\"]],\n",
    "                          columns = [i for i in [\"Negative\", \"Neutral\", \"Positive\"]])\n",
    "\n",
    "plt.figure(figsize = (10,7))\n",
    "sn.heatmap(df_cm_pred, annot=True, cbar=False, fmt=\"d\")\n",
    "plt.savefig('/content/drive/MyDrive/final-project/confusion_matrix_vader.jpg')"
   ]
  },
  {
   "cell_type": "markdown",
   "metadata": {
    "id": "h95d-D7kUqa2"
   },
   "source": [
    "## **Analysis**"
   ]
  },
  {
   "cell_type": "code",
   "execution_count": 138,
   "metadata": {
    "executionInfo": {
     "elapsed": 420,
     "status": "ok",
     "timestamp": 1624963993041,
     "user": {
      "displayName": "Arif Agustyawan",
      "photoUrl": "https://lh3.googleusercontent.com/a-/AOh14Gh9uApKQSWG8ogeB8DBfDQMuhFt7TBksOpgrYN7YQ=s64",
      "userId": "16514179669705499636"
     },
     "user_tz": -420
    },
    "id": "bJf-X2mNMsQ2"
   },
   "outputs": [],
   "source": [
    "new_df = pd.DataFrame(df['label'])\n",
    "new_df.insert(1, 'metodh', 'manual')"
   ]
  },
  {
   "cell_type": "code",
   "execution_count": 139,
   "metadata": {
    "executionInfo": {
     "elapsed": 396,
     "status": "ok",
     "timestamp": 1624963996900,
     "user": {
      "displayName": "Arif Agustyawan",
      "photoUrl": "https://lh3.googleusercontent.com/a-/AOh14Gh9uApKQSWG8ogeB8DBfDQMuhFt7TBksOpgrYN7YQ=s64",
      "userId": "16514179669705499636"
     },
     "user_tz": -420
    },
    "id": "xJRM54YJPayE"
   },
   "outputs": [],
   "source": [
    "vals = df.values"
   ]
  },
  {
   "cell_type": "code",
   "execution_count": null,
   "metadata": {
    "id": "JUtyX2VJRAQi"
   },
   "outputs": [],
   "source": [
    "vals.tolist()"
   ]
  },
  {
   "cell_type": "code",
   "execution_count": 141,
   "metadata": {
    "executionInfo": {
     "elapsed": 922,
     "status": "ok",
     "timestamp": 1624964001723,
     "user": {
      "displayName": "Arif Agustyawan",
      "photoUrl": "https://lh3.googleusercontent.com/a-/AOh14Gh9uApKQSWG8ogeB8DBfDQMuhFt7TBksOpgrYN7YQ=s64",
      "userId": "16514179669705499636"
     },
     "user_tz": -420
    },
    "id": "RwgLOgR2OhkD"
   },
   "outputs": [],
   "source": [
    "a = df['sentimen_textblob']\n",
    "for i in a:\n",
    "  new_df.loc[len(new_df)] = [i, 'textblob']\n",
    "\n",
    "a = df['sentimen_vader']\n",
    "for i in a:\n",
    "  new_df.loc[len(new_df)] = [i, 'vader']"
   ]
  },
  {
   "cell_type": "code",
   "execution_count": 142,
   "metadata": {
    "executionInfo": {
     "elapsed": 480,
     "status": "ok",
     "timestamp": 1624964004295,
     "user": {
      "displayName": "Arif Agustyawan",
      "photoUrl": "https://lh3.googleusercontent.com/a-/AOh14Gh9uApKQSWG8ogeB8DBfDQMuhFt7TBksOpgrYN7YQ=s64",
      "userId": "16514179669705499636"
     },
     "user_tz": -420
    },
    "id": "fRFZ-o8JNmi4"
   },
   "outputs": [],
   "source": [
    "new_df\n",
    "new_df.insert(1, 'value', '1')"
   ]
  },
  {
   "cell_type": "code",
   "execution_count": 198,
   "metadata": {
    "colab": {
     "base_uri": "https://localhost:8080/",
     "height": 419
    },
    "executionInfo": {
     "elapsed": 434,
     "status": "ok",
     "timestamp": 1624967572654,
     "user": {
      "displayName": "Arif Agustyawan",
      "photoUrl": "https://lh3.googleusercontent.com/a-/AOh14Gh9uApKQSWG8ogeB8DBfDQMuhFt7TBksOpgrYN7YQ=s64",
      "userId": "16514179669705499636"
     },
     "user_tz": -420
    },
    "id": "xxjgnqxmaMZn",
    "outputId": "56ecc5f2-cdd8-4090-86ab-0c4670f7ef27"
   },
   "outputs": [
    {
     "data": {
      "text/html": [
       "<div>\n",
       "<style scoped>\n",
       "    .dataframe tbody tr th:only-of-type {\n",
       "        vertical-align: middle;\n",
       "    }\n",
       "\n",
       "    .dataframe tbody tr th {\n",
       "        vertical-align: top;\n",
       "    }\n",
       "\n",
       "    .dataframe thead th {\n",
       "        text-align: right;\n",
       "    }\n",
       "</style>\n",
       "<table border=\"1\" class=\"dataframe\">\n",
       "  <thead>\n",
       "    <tr style=\"text-align: right;\">\n",
       "      <th></th>\n",
       "      <th>label</th>\n",
       "      <th>value</th>\n",
       "      <th>metodh</th>\n",
       "    </tr>\n",
       "  </thead>\n",
       "  <tbody>\n",
       "    <tr>\n",
       "      <th>0</th>\n",
       "      <td>neutral</td>\n",
       "      <td>1</td>\n",
       "      <td>manual</td>\n",
       "    </tr>\n",
       "    <tr>\n",
       "      <th>1</th>\n",
       "      <td>positive</td>\n",
       "      <td>1</td>\n",
       "      <td>manual</td>\n",
       "    </tr>\n",
       "    <tr>\n",
       "      <th>2</th>\n",
       "      <td>positive</td>\n",
       "      <td>1</td>\n",
       "      <td>manual</td>\n",
       "    </tr>\n",
       "    <tr>\n",
       "      <th>3</th>\n",
       "      <td>positive</td>\n",
       "      <td>1</td>\n",
       "      <td>manual</td>\n",
       "    </tr>\n",
       "    <tr>\n",
       "      <th>4</th>\n",
       "      <td>positive</td>\n",
       "      <td>1</td>\n",
       "      <td>manual</td>\n",
       "    </tr>\n",
       "    <tr>\n",
       "      <th>...</th>\n",
       "      <td>...</td>\n",
       "      <td>...</td>\n",
       "      <td>...</td>\n",
       "    </tr>\n",
       "    <tr>\n",
       "      <th>295</th>\n",
       "      <td>negative</td>\n",
       "      <td>1</td>\n",
       "      <td>vader</td>\n",
       "    </tr>\n",
       "    <tr>\n",
       "      <th>296</th>\n",
       "      <td>positive</td>\n",
       "      <td>1</td>\n",
       "      <td>vader</td>\n",
       "    </tr>\n",
       "    <tr>\n",
       "      <th>297</th>\n",
       "      <td>neutral</td>\n",
       "      <td>1</td>\n",
       "      <td>vader</td>\n",
       "    </tr>\n",
       "    <tr>\n",
       "      <th>298</th>\n",
       "      <td>negative</td>\n",
       "      <td>1</td>\n",
       "      <td>vader</td>\n",
       "    </tr>\n",
       "    <tr>\n",
       "      <th>299</th>\n",
       "      <td>neutral</td>\n",
       "      <td>1</td>\n",
       "      <td>vader</td>\n",
       "    </tr>\n",
       "  </tbody>\n",
       "</table>\n",
       "<p>300 rows × 3 columns</p>\n",
       "</div>"
      ],
      "text/plain": [
       "        label  value  metodh\n",
       "0     neutral      1  manual\n",
       "1    positive      1  manual\n",
       "2    positive      1  manual\n",
       "3    positive      1  manual\n",
       "4    positive      1  manual\n",
       "..        ...    ...     ...\n",
       "295  negative      1   vader\n",
       "296  positive      1   vader\n",
       "297   neutral      1   vader\n",
       "298  negative      1   vader\n",
       "299   neutral      1   vader\n",
       "\n",
       "[300 rows x 3 columns]"
      ]
     },
     "execution_count": 198,
     "metadata": {
      "tags": []
     },
     "output_type": "execute_result"
    }
   ],
   "source": [
    "convert_dict = {'value': int}\n",
    "new_df = new_df.astype(convert_dict)\n",
    "new_df"
   ]
  },
  {
   "cell_type": "code",
   "execution_count": 199,
   "metadata": {
    "colab": {
     "base_uri": "https://localhost:8080/"
    },
    "executionInfo": {
     "elapsed": 435,
     "status": "ok",
     "timestamp": 1624967581549,
     "user": {
      "displayName": "Arif Agustyawan",
      "photoUrl": "https://lh3.googleusercontent.com/a-/AOh14Gh9uApKQSWG8ogeB8DBfDQMuhFt7TBksOpgrYN7YQ=s64",
      "userId": "16514179669705499636"
     },
     "user_tz": -420
    },
    "id": "Vn-3LMbqnS5q",
    "outputId": "1b1902f7-803e-4c6d-da03-8c404f1571a5"
   },
   "outputs": [
    {
     "name": "stdout",
     "output_type": "stream",
     "text": [
      "<class 'pandas.core.frame.DataFrame'>\n",
      "Int64Index: 300 entries, 0 to 299\n",
      "Data columns (total 3 columns):\n",
      " #   Column  Non-Null Count  Dtype \n",
      "---  ------  --------------  ----- \n",
      " 0   label   300 non-null    object\n",
      " 1   value   300 non-null    int64 \n",
      " 2   metodh  300 non-null    object\n",
      "dtypes: int64(1), object(2)\n",
      "memory usage: 19.4+ KB\n"
     ]
    }
   ],
   "source": [
    "new_df.info()"
   ]
  },
  {
   "cell_type": "code",
   "execution_count": 205,
   "metadata": {
    "colab": {
     "base_uri": "https://localhost:8080/",
     "height": 405
    },
    "executionInfo": {
     "elapsed": 516,
     "status": "ok",
     "timestamp": 1624967748653,
     "user": {
      "displayName": "Arif Agustyawan",
      "photoUrl": "https://lh3.googleusercontent.com/a-/AOh14Gh9uApKQSWG8ogeB8DBfDQMuhFt7TBksOpgrYN7YQ=s64",
      "userId": "16514179669705499636"
     },
     "user_tz": -420
    },
    "id": "mYFkT1hMVBw7",
    "outputId": "3ffae547-20a5-4680-cc2f-8801e44429d6"
   },
   "outputs": [
    {
     "name": "stderr",
     "output_type": "stream",
     "text": [
      "/usr/local/lib/python3.7/dist-packages/seaborn/_decorators.py:43: FutureWarning: Pass the following variable as a keyword arg: x. From version 0.12, the only valid positional argument will be `data`, and passing other arguments without an explicit keyword will result in an error or misinterpretation.\n",
      "  FutureWarning\n"
     ]
    },
    {
     "data": {
      "text/plain": [
       "<matplotlib.axes._subplots.AxesSubplot at 0x7ff4c782bd90>"
      ]
     },
     "execution_count": 205,
     "metadata": {
      "tags": []
     },
     "output_type": "execute_result"
    },
    {
     "data": {
      "image/png": "[encoded data removed]",
      "text/plain": [
       "<Figure size 720x360 with 1 Axes>"
      ]
     },
     "metadata": {
      "needs_background": "light",
      "tags": []
     },
     "output_type": "display_data"
    }
   ],
   "source": [
    "import seaborn as sns\n",
    "fig1, ax1 = plt.subplots(figsize=(10,5))\n",
    "sns.countplot(new_df['label'],hue=new_df['metodh'])"
   ]
  },
  {
   "cell_type": "code",
   "execution_count": 197,
   "metadata": {
    "colab": {
     "base_uri": "https://localhost:8080/",
     "height": 328
    },
    "executionInfo": {
     "elapsed": 469,
     "status": "ok",
     "timestamp": 1624967278117,
     "user": {
      "displayName": "Arif Agustyawan",
      "photoUrl": "https://lh3.googleusercontent.com/a-/AOh14Gh9uApKQSWG8ogeB8DBfDQMuhFt7TBksOpgrYN7YQ=s64",
      "userId": "16514179669705499636"
     },
     "user_tz": -420
    },
    "id": "F2Q1HDw6YPA-",
    "outputId": "6ac5058e-b87a-4ca3-9490-b44e27dc164a"
   },
   "outputs": [
    {
     "data": {
      "text/html": [
       "<div>\n",
       "<style scoped>\n",
       "    .dataframe tbody tr th:only-of-type {\n",
       "        vertical-align: middle;\n",
       "    }\n",
       "\n",
       "    .dataframe tbody tr th {\n",
       "        vertical-align: top;\n",
       "    }\n",
       "\n",
       "    .dataframe thead th {\n",
       "        text-align: right;\n",
       "    }\n",
       "</style>\n",
       "<table border=\"1\" class=\"dataframe\">\n",
       "  <thead>\n",
       "    <tr style=\"text-align: right;\">\n",
       "      <th></th>\n",
       "      <th>label</th>\n",
       "      <th>metodh</th>\n",
       "      <th>value</th>\n",
       "    </tr>\n",
       "  </thead>\n",
       "  <tbody>\n",
       "    <tr>\n",
       "      <th>0</th>\n",
       "      <td>negative</td>\n",
       "      <td>manual</td>\n",
       "      <td>14</td>\n",
       "    </tr>\n",
       "    <tr>\n",
       "      <th>1</th>\n",
       "      <td>negative</td>\n",
       "      <td>textblob</td>\n",
       "      <td>15</td>\n",
       "    </tr>\n",
       "    <tr>\n",
       "      <th>2</th>\n",
       "      <td>negative</td>\n",
       "      <td>vader</td>\n",
       "      <td>20</td>\n",
       "    </tr>\n",
       "    <tr>\n",
       "      <th>3</th>\n",
       "      <td>neutral</td>\n",
       "      <td>manual</td>\n",
       "      <td>36</td>\n",
       "    </tr>\n",
       "    <tr>\n",
       "      <th>4</th>\n",
       "      <td>neutral</td>\n",
       "      <td>textblob</td>\n",
       "      <td>43</td>\n",
       "    </tr>\n",
       "    <tr>\n",
       "      <th>5</th>\n",
       "      <td>neutral</td>\n",
       "      <td>vader</td>\n",
       "      <td>35</td>\n",
       "    </tr>\n",
       "    <tr>\n",
       "      <th>6</th>\n",
       "      <td>positive</td>\n",
       "      <td>manual</td>\n",
       "      <td>50</td>\n",
       "    </tr>\n",
       "    <tr>\n",
       "      <th>7</th>\n",
       "      <td>positive</td>\n",
       "      <td>textblob</td>\n",
       "      <td>42</td>\n",
       "    </tr>\n",
       "    <tr>\n",
       "      <th>8</th>\n",
       "      <td>positive</td>\n",
       "      <td>vader</td>\n",
       "      <td>45</td>\n",
       "    </tr>\n",
       "  </tbody>\n",
       "</table>\n",
       "</div>"
      ],
      "text/plain": [
       "      label    metodh  value\n",
       "0  negative    manual     14\n",
       "1  negative  textblob     15\n",
       "2  negative     vader     20\n",
       "3   neutral    manual     36\n",
       "4   neutral  textblob     43\n",
       "5   neutral     vader     35\n",
       "6  positive    manual     50\n",
       "7  positive  textblob     42\n",
       "8  positive     vader     45"
      ]
     },
     "execution_count": 197,
     "metadata": {
      "tags": []
     },
     "output_type": "execute_result"
    }
   ],
   "source": [
    "ss = new_df.groupby(['label','metodh']).sum()\n",
    "ss.reset_index(inplace = True)\n",
    "ss"
   ]
  }
 ],
 "metadata": {
  "colab": {
   "authorship_tag": "ABX9TyPj2Tlvn07Mrqr+ioeB3W88",
   "name": "Final Project.ipynb",
   "provenance": [],
   "toc_visible": true
  },
  "kernelspec": {
   "display_name": "Python 3",
   "language": "python",
   "name": "python3"
  },
  "language_info": {
   "codemirror_mode": {
    "name": "ipython",
    "version": 3
   },
   "file_extension": ".py",
   "mimetype": "text/x-python",
   "name": "python",
   "nbconvert_exporter": "python",
   "pygments_lexer": "ipython3",
   "version": "3.7.3"
  }
 },
 "nbformat": 4,
 "nbformat_minor": 4
}
